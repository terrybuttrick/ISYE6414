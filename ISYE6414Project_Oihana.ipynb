{
 "cells": [
  {
   "cell_type": "code",
   "execution_count": 45,
   "id": "f18696bb-61ac-4ed2-a33e-21e3618b002b",
   "metadata": {},
   "outputs": [
    {
     "name": "stderr",
     "output_type": "stream",
     "text": [
      "Loading required package: Matrix\n",
      "\n",
      "\n",
      "Attaching package: 'Matrix'\n",
      "\n",
      "\n",
      "The following objects are masked from 'package:tidyr':\n",
      "\n",
      "    expand, pack, unpack\n",
      "\n",
      "\n",
      "Loaded glmnet 4.1-8\n",
      "\n"
     ]
    }
   ],
   "source": [
    "library(tidyverse)\n",
    "library(car)\n",
    "library(glmnet)"
   ]
  },
  {
   "cell_type": "code",
   "execution_count": 5,
   "id": "3613af16-2b0f-42cd-adb3-aee68686c482",
   "metadata": {},
   "outputs": [],
   "source": [
    "# read data\n",
    "data = read.csv('everything.csv', header = TRUE, na.strings = '')\n",
    "data$date <- as.Date(data$date)\n",
    "data$date <- format(data$date, format = '%Y')\n",
    "\n",
    "# grab my own columns (sh starts in 2010)\n",
    "df <- data %>%\n",
    "select(3, 5, 6, 25, 26, 27, 28, 29, 53)\n",
    "\n",
    "# remove na rows (not relevant for my part)\n",
    "df[df == 'NA'] <- NA\n",
    "df <- df[complete.cases(df), ]\n",
    "\n",
    "# make sure the numbers are numeric\n",
    "df$Overall.Homeless = as.numeric(df$Overall.Homeless)\n",
    "df$Sheltered.ES.Homeless = as.numeric(df$Sheltered.ES.Homeless)\n",
    "df$Sheltered.TH.Homeless = as.numeric(df$Sheltered.TH.Homeless)\n",
    "df$Sheltered.Total.Homeless = as.numeric(df$Sheltered.Total.Homeless)\n",
    "df$Unsheltered.Homeless = as.numeric(df$Unsheltered.Homeless)\n",
    "df$Sheltered.SH.Homeless = as.numeric(df$Sheltered.SH.Homeless)\n",
    "\n",
    "# fix ZHVI into yearly (avg of years value)\n",
    "# https://stackoverflow.com/questions/52221044/dplyrfirst-to-choose-first-non-na-value\n",
    "df <- df %>%\n",
    "group_by(RegionName, date) %>%\n",
    "summarize(\n",
    "    avg_ZHVI = mean(ZHVI, na.rm = TRUE),\n",
    "\n",
    "    Overall.Homeless = first(na.omit(Overall.Homeless)),\n",
    "    Sheltered.ES.Homeless = first(na.omit(Sheltered.ES.Homeless)),\n",
    "    Sheltered.TH.Homeless = first(na.omit(Sheltered.TH.Homeless)),\n",
    "    Sheltered.Total.Homeless = first(na.omit(Sheltered.Total.Homeless)),\n",
    "    Unsheltered.Homeless = first(na.omit(Unsheltered.Homeless)),\n",
    "    Sheltered.SH.Homeless = first(na.omit(Sheltered.SH.Homeless)),\n",
    "\n",
    "    .groups = 'drop'\n",
    "    )"
   ]
  },
  {
   "cell_type": "markdown",
   "id": "6d766d31-4e97-4749-ad93-449516866ddf",
   "metadata": {},
   "source": [
    "- **RegionName**: State of residence (Qualitative)\n",
    "- **Date**: Month/Year (Quantitative)\n",
    "- **ZHVI**: Housing prices (Quantitative)\n",
    "- **Overall.Homeless**: Total number of homeless (Quantitative)\n",
    "- **Unsheltered.Homeless**: Total number of unsheltered homeless (Quantitative)\n",
    "- **Sheltered.ES.Homeless**: Total number of Emergency Shelter (ES) homeless (Quantitative)\n",
    "- **Sheltered.TH.Homeless**: Total number of Transitional Housing (TH) homeless (Quantitative)\n",
    "- **Sheltered.SH.Homeless**: Total number of Safe Haven (SH) homeless"
   ]
  },
  {
   "cell_type": "code",
   "execution_count": null,
   "id": "e218f1d9-ae37-4e5e-bbec-a36ddbeacdcc",
   "metadata": {},
   "outputs": [],
   "source": [
    "# make sheltered into a categorical variable\n",
    "homeless_df <- df %>%\n",
    "pivot_longer(cols = c(Sheltered.ES.Homeless, Sheltered.TH.Homeless, Sheltered.SH.Homeless),\n",
    "             names_to = 'Sheltered.Type',\n",
    "             values_to = 'Sheltered.Type.Count')\n",
    "# https://stackoverflow.com/questions/66736264/how-do-i-rename-values-of-a-variable-in-r\n",
    "homeless_df$Sheltered.Type[homeless_df$Sheltered.Type == 'Sheltered.ES.Homeless'] = 'ES'\n",
    "homeless_df$Sheltered.Type[homeless_df$Sheltered.Type == 'Sheltered.TH.Homeless'] = 'TH'\n",
    "homeless_df$Sheltered.Type[homeless_df$Sheltered.Type == 'Sheltered.SH.Homeless'] = 'SH'\n",
    "#homeless_df$Sheltered.Type[homeless_df$Sheltered.Type == 'Unsheltered.Homeless'] = 'US'\n",
    "\n",
    "homeless_df$Sheltered.Type <- as.factor(homeless_df$Sheltered.Type)\n",
    "head(homeless_df, 10)\n",
    "\n",
    "#divide into train and test data\n",
    "homeless_df$date = as.factor(homeless_df$date)\n",
    "\n",
    "trainData <- homeless_df[homeless_df$date != '2023', ]\n",
    "testData <- homeless_df[homeless_df$date == '2023', ]"
   ]
  },
  {
   "cell_type": "code",
   "execution_count": null,
   "id": "895f2605-3737-43c0-892d-3ded61db5e76",
   "metadata": {},
   "outputs": [],
   "source": [
    "bar = xtabs(homeless_df$Sheltered.Type.Count ~ homeless_df$Sheltered.Type + homeless_df$date)\n",
    "proportion <- prop.table(bar, margin = 2)\n",
    "\n",
    "par(mar = c(6, 4, 4, 7))\n",
    "barplot(proportion,\n",
    "        main = 'Proportion of Homeless by Sheltered Type',\n",
    "        col = rainbow(nrow(proportion)),\n",
    "        legend.text = rownames(proportion),\n",
    "        args.legend = list(x = 'topright', inset = c(-0.25, 0), bty = 'n', cex = 0.8),\n",
    "        cex.names = 0.8,\n",
    "        cex.axis = 0.8,\n",
    "        las = 2)"
   ]
  },
  {
   "cell_type": "code",
   "execution_count": 100,
   "id": "7868a297-f9b0-4355-9979-dbeb70c817a5",
   "metadata": {},
   "outputs": [
    {
     "data": {
      "text/plain": [
       "\n",
       "Call:\n",
       "lm(formula = avg_ZHVI ~ RegionName + date + Unsheltered.Homeless + \n",
       "    Sheltered.Type, data = trainData)\n",
       "\n",
       "Residuals:\n",
       "    Min      1Q  Median      3Q     Max \n",
       "-118946  -10724     -93   13838  158371 \n",
       "\n",
       "Coefficients:\n",
       "                       Estimate Std. Error t value Pr(>|t|)    \n",
       "(Intercept)           2.385e+05  5.464e+03  43.657  < 2e-16 ***\n",
       "RegionNameAL         -1.376e+05  6.829e+03 -20.152  < 2e-16 ***\n",
       "RegionNameAR         -1.473e+05  6.829e+03 -21.570  < 2e-16 ***\n",
       "RegionNameAZ         -4.840e+04  6.853e+03  -7.063 2.29e-12 ***\n",
       "RegionNameCA          1.440e+05  1.508e+04   9.547  < 2e-16 ***\n",
       "RegionNameCO          4.590e+04  6.855e+03   6.695 2.84e-11 ***\n",
       "RegionNameCT         -2.887e+04  6.827e+03  -4.228 2.47e-05 ***\n",
       "RegionNameDE         -3.013e+04  6.827e+03  -4.413 1.07e-05 ***\n",
       "RegionNameFL         -8.428e+04  7.608e+03 -11.078  < 2e-16 ***\n",
       "RegionNameGA         -1.090e+05  6.907e+03 -15.775  < 2e-16 ***\n",
       "RegionNameHI          2.639e+05  6.842e+03  38.563  < 2e-16 ***\n",
       "RegionNameIA         -1.415e+05  6.826e+03 -20.735  < 2e-16 ***\n",
       "RegionNameID         -4.486e+04  6.827e+03  -6.571 6.43e-11 ***\n",
       "RegionNameIL         -1.082e+05  6.834e+03 -15.837  < 2e-16 ***\n",
       "RegionNameIN         -1.445e+05  6.827e+03 -21.171  < 2e-16 ***\n",
       "RegionNameKS         -1.459e+05  6.826e+03 -21.376  < 2e-16 ***\n",
       "RegionNameKY         -1.566e+05  6.827e+03 -22.940  < 2e-16 ***\n",
       "RegionNameLA         -1.162e+05  6.835e+03 -17.003  < 2e-16 ***\n",
       "RegionNameMA          9.338e+04  6.827e+03  13.677  < 2e-16 ***\n",
       "RegionNameMD          7.387e+03  6.833e+03   1.081 0.279799    \n",
       "RegionNameME         -6.844e+04  6.826e+03 -10.025  < 2e-16 ***\n",
       "RegionNameMI         -1.441e+05  6.829e+03 -21.095  < 2e-16 ***\n",
       "RegionNameMN         -6.784e+04  6.828e+03  -9.936  < 2e-16 ***\n",
       "RegionNameMO         -1.344e+05  6.829e+03 -19.677  < 2e-16 ***\n",
       "RegionNameMS         -1.557e+05  6.827e+03 -22.800  < 2e-16 ***\n",
       "RegionNameMT         -3.947e+04  6.827e+03  -5.782 8.62e-09 ***\n",
       "RegionNameNC         -9.710e+04  6.840e+03 -14.196  < 2e-16 ***\n",
       "RegionNameND         -7.653e+04  6.826e+03 -11.210  < 2e-16 ***\n",
       "RegionNameNE         -1.255e+05  6.826e+03 -18.381  < 2e-16 ***\n",
       "RegionNameNH         -2.560e+04  6.826e+03  -3.750 0.000182 ***\n",
       "RegionNameNJ          4.363e+04  6.829e+03   6.390 2.09e-10 ***\n",
       "RegionNameNM         -9.713e+04  6.827e+03 -14.227  < 2e-16 ***\n",
       "RegionNameNV         -4.536e+04  6.855e+03  -6.616 4.78e-11 ***\n",
       "RegionNameNY          2.133e+04  6.856e+03   3.111 0.001890 ** \n",
       "RegionNameOH         -1.481e+05  6.829e+03 -21.683  < 2e-16 ***\n",
       "RegionNameOK         -1.556e+05  6.828e+03 -22.793  < 2e-16 ***\n",
       "RegionNameOR          1.691e+04  6.969e+03   2.427 0.015325 *  \n",
       "RegionNamePA         -1.091e+05  6.829e+03 -15.975  < 2e-16 ***\n",
       "RegionNameRI         -1.803e+04  6.826e+03  -2.641 0.008334 ** \n",
       "RegionNameSC         -1.105e+05  6.831e+03 -16.170  < 2e-16 ***\n",
       "RegionNameSD         -9.717e+04  6.826e+03 -14.234  < 2e-16 ***\n",
       "RegionNameTN         -1.093e+05  6.846e+03 -15.965  < 2e-16 ***\n",
       "RegionNameTX         -1.018e+05  7.078e+03 -14.386  < 2e-16 ***\n",
       "RegionNameUT          7.808e+03  6.827e+03   1.144 0.252858    \n",
       "RegionNameVA         -2.742e+04  6.827e+03  -4.016 6.16e-05 ***\n",
       "RegionNameVT         -4.081e+04  6.826e+03  -5.978 2.70e-09 ***\n",
       "RegionNameWA          5.295e+04  6.931e+03   7.640 3.44e-14 ***\n",
       "RegionNameWI         -1.017e+05  6.826e+03 -14.900  < 2e-16 ***\n",
       "RegionNameWV         -1.727e+05  6.826e+03 -25.299  < 2e-16 ***\n",
       "RegionNameWY         -4.940e+04  6.826e+03  -7.236 6.69e-13 ***\n",
       "date2011             -8.023e+03  3.481e+03  -2.305 0.021276 *  \n",
       "date2012             -9.289e+03  3.481e+03  -2.669 0.007679 ** \n",
       "date2013              3.177e+02  3.483e+03   0.091 0.927328    \n",
       "date2014              1.056e+04  3.486e+03   3.028 0.002492 ** \n",
       "date2015              2.005e+04  3.487e+03   5.751 1.03e-08 ***\n",
       "date2016              3.117e+04  3.486e+03   8.940  < 2e-16 ***\n",
       "date2017              4.241e+04  3.484e+03  12.174  < 2e-16 ***\n",
       "date2018              5.540e+04  3.483e+03  15.906  < 2e-16 ***\n",
       "date2019              6.597e+04  3.482e+03  18.948  < 2e-16 ***\n",
       "date2020              8.112e+04  3.481e+03  23.304  < 2e-16 ***\n",
       "date2021              1.218e+05  3.530e+03  34.500  < 2e-16 ***\n",
       "date2022              1.607e+05  3.481e+03  46.171  < 2e-16 ***\n",
       "Unsheltered.Homeless  4.252e-01  1.687e-01   2.520 0.011808 *  \n",
       "Sheltered.TypeSH      2.127e-10  1.672e+03   0.000 1.000000    \n",
       "Sheltered.TypeTH     -3.356e-10  1.672e+03   0.000 1.000000    \n",
       "---\n",
       "Signif. codes:  0 '***' 0.001 '**' 0.01 '*' 0.05 '.' 0.1 ' ' 1\n",
       "\n",
       "Residual standard error: 30140 on 1885 degrees of freedom\n",
       "Multiple R-squared:  0.9197,\tAdjusted R-squared:  0.917 \n",
       "F-statistic: 337.4 on 64 and 1885 DF,  p-value: < 2.2e-16\n"
      ]
     },
     "metadata": {},
     "output_type": "display_data"
    }
   ],
   "source": [
    "trainData <- droplevels(trainData)\n",
    "model1 <- lm(avg_ZHVI ~ RegionName + date + Unsheltered.Homeless + Sheltered.Type, data = trainData)\n",
    "summary(model1)"
   ]
  },
  {
   "cell_type": "code",
   "execution_count": 102,
   "id": "82e58005-e9b3-4923-8e25-5eb5f313bd31",
   "metadata": {},
   "outputs": [
    {
     "data": {
      "image/png": "[encoded data removed]",
      "text/plain": [
       "plot without title"
      ]
     },
     "metadata": {
      "image/png": {
       "height": 420,
       "width": 420
      }
     },
     "output_type": "display_data"
    }
   ],
   "source": [
    "# linearity assumption\n",
    "resids <- rstandard(model1)\n",
    "par(mfrow = c(1, 2))\n",
    "plot(trainData$Unsheltered.Homeless, resids,\n",
    "     xlab = 'Unsheltered Homeless',\n",
    "     ylab = 'Standardized Reisduals',\n",
    "     abline(h = 0, col = 'red')\n",
    "     )\n",
    "plot(trainData$Overall.Homeless, resids,\n",
    "     xlab = 'Overall Homeless',\n",
    "     ylab = 'Standardized Reisduals',\n",
    "     abline(h = 0, col = 'red')\n",
    "     )"
   ]
  },
  {
   "cell_type": "code",
   "execution_count": 104,
   "id": "d1410cf9-8b53-438b-a620-ce7b229b6dd1",
   "metadata": {},
   "outputs": [
    {
     "data": {
      "image/png": "[encoded data removed]",
      "text/plain": [
       "plot without title"
      ]
     },
     "metadata": {
      "image/png": {
       "height": 420,
       "width": 420
      }
     },
     "output_type": "display_data"
    }
   ],
   "source": [
    "# constant variance assumption\n",
    "plot(model1$fitted.values, resids,\n",
    "     xlab = 'Fitted Values',\n",
    "     ylab = 'Standardized Residuals',\n",
    "     abline(h = 0, col = 'red')\n",
    "     )"
   ]
  },
  {
   "cell_type": "code",
   "execution_count": 106,
   "id": "bee362dd-b9cd-4b35-ac02-08d27f601918",
   "metadata": {},
   "outputs": [
    {
     "data": {
      "image/png": "[encoded data removed]",
      "text/plain": [
       "Plot with title \"Histogram of resids\""
      ]
     },
     "metadata": {
      "image/png": {
       "height": 420,
       "width": 420
      }
     },
     "output_type": "display_data"
    },
    {
     "data": {
      "text/html": [
       "<style>\n",
       ".list-inline {list-style: none; margin:0; padding: 0}\n",
       ".list-inline>li {display: inline-block}\n",
       ".list-inline>li:not(:last-child)::after {content: \"\\00b7\"; padding: 0 .5ex}\n",
       "</style>\n",
       "<ol class=list-inline><li>191</li><li>190</li></ol>\n"
      ],
      "text/latex": [
       "\\begin{enumerate*}\n",
       "\\item 191\n",
       "\\item 190\n",
       "\\end{enumerate*}\n"
      ],
      "text/markdown": [
       "1. 191\n",
       "2. 190\n",
       "\n",
       "\n"
      ],
      "text/plain": [
       "[1] 191 190"
      ]
     },
     "metadata": {},
     "output_type": "display_data"
    },
    {
     "data": {
      "image/png": "[encoded data removed]",
      "text/plain": [
       "plot without title"
      ]
     },
     "metadata": {
      "image/png": {
       "height": 420,
       "width": 420
      }
     },
     "output_type": "display_data"
    }
   ],
   "source": [
    "# normality assumption\n",
    "hist(resids, col = 'blue')\n",
    "qqPlot(resids, envelope = 0.95)"
   ]
  },
  {
   "cell_type": "markdown",
   "id": "d5d075c5-86e1-413c-9be9-ab46b58fbe0d",
   "metadata": {},
   "source": [
    "Second Part of my Analysis"
   ]
  },
  {
   "cell_type": "code",
   "execution_count": 7,
   "id": "9f10a4bb-baf3-48af-9e21-6c59ffdaecd6",
   "metadata": {},
   "outputs": [
    {
     "data": {
      "text/plain": [
       "\n",
       "Call:\n",
       "lm(formula = avg_ZHVI ~ RegionName + Overall.Homeless + Sheltered.ES.Homeless + \n",
       "    Sheltered.TH.Homeless + Sheltered.SH.Homeless + Unsheltered.Homeless, \n",
       "    data = train_new)\n",
       "\n",
       "Residuals:\n",
       "    Min      1Q  Median      3Q     Max \n",
       "-116228  -21640   -6756   15196  239854 \n",
       "\n",
       "Coefficients: (1 not defined because of singularities)\n",
       "                        Estimate Std. Error t value Pr(>|t|)    \n",
       "(Intercept)            3.002e+05  1.300e+04  23.092  < 2e-16 ***\n",
       "RegionNameAL          -1.110e+05  1.849e+04  -6.003 3.37e-09 ***\n",
       "RegionNameAR          -1.470e+05  1.822e+04  -8.068 3.94e-15 ***\n",
       "RegionNameAZ           2.961e+04  1.965e+04   1.507  0.13241    \n",
       "RegionNameCA           7.643e+05  6.271e+04  12.188  < 2e-16 ***\n",
       "RegionNameCO           1.325e+05  1.954e+04   6.781 2.88e-11 ***\n",
       "RegionNameCT          -1.659e+04  1.828e+04  -0.908  0.36438    \n",
       "RegionNameDE          -3.550e+04  1.822e+04  -1.948  0.05188 .  \n",
       "RegionNameFL           1.690e+05  3.023e+04   5.589 3.49e-08 ***\n",
       "RegionNameGA          -2.067e+04  1.940e+04  -1.066  0.28698    \n",
       "RegionNameHI           3.103e+05  1.856e+04  16.720  < 2e-16 ***\n",
       "RegionNameIA          -1.172e+05  1.829e+04  -6.407 3.02e-10 ***\n",
       "RegionNameID          -4.443e+04  1.822e+04  -2.439  0.01502 *  \n",
       "RegionNameIL           2.660e+04  2.203e+04   1.207  0.22780    \n",
       "RegionNameIN          -9.950e+04  1.899e+04  -5.239 2.25e-07 ***\n",
       "RegionNameKS          -1.372e+05  1.824e+04  -7.524 1.96e-13 ***\n",
       "RegionNameKY          -1.274e+05  1.836e+04  -6.937 1.05e-11 ***\n",
       "RegionNameLA          -8.474e+04  1.867e+04  -4.538 6.86e-06 ***\n",
       "RegionNameMA           1.921e+05  2.501e+04   7.682 6.49e-14 ***\n",
       "RegionNameMD           6.489e+04  1.993e+04   3.255  0.00120 ** \n",
       "RegionNameME          -4.485e+04  1.831e+04  -2.450  0.01457 *  \n",
       "RegionNameMI          -4.999e+04  2.040e+04  -2.451  0.01454 *  \n",
       "RegionNameMN           2.087e+03  1.902e+04   0.110  0.91265    \n",
       "RegionNameMO          -7.806e+04  1.919e+04  -4.067 5.40e-05 ***\n",
       "RegionNameMS          -1.593e+05  1.823e+04  -8.738  < 2e-16 ***\n",
       "RegionNameMT          -4.533e+04  1.822e+04  -2.487  0.01314 *  \n",
       "RegionNameNC          -2.865e+04  1.928e+04  -1.486  0.13775    \n",
       "RegionNameND          -8.782e+04  1.825e+04  -4.811 1.91e-06 ***\n",
       "RegionNameNE          -1.096e+05  1.825e+04  -6.006 3.31e-09 ***\n",
       "RegionNameNH          -2.641e+04  1.823e+04  -1.449  0.14783    \n",
       "RegionNameNJ           1.162e+05  1.990e+04   5.839 8.62e-09 ***\n",
       "RegionNameNM          -9.208e+04  1.822e+04  -5.054 5.75e-07 ***\n",
       "RegionNameNV          -5.660e+03  1.867e+04  -0.303  0.76183    \n",
       "RegionNameNY           3.606e+05  7.925e+04   4.551 6.48e-06 ***\n",
       "RegionNameOH          -5.680e+04  2.187e+04  -2.597  0.00963 ** \n",
       "RegionNameOK          -1.452e+05  1.851e+04  -7.842 2.05e-14 ***\n",
       "RegionNameOR           9.400e+04  1.925e+04   4.883 1.35e-06 ***\n",
       "RegionNamePA           5.689e+04  3.220e+04   1.766  0.07783 .  \n",
       "RegionNameRI          -2.407e+04  1.823e+04  -1.320  0.18727    \n",
       "RegionNameSC          -8.981e+04  1.831e+04  -4.906 1.20e-06 ***\n",
       "RegionNameSD          -1.072e+05  1.823e+04  -5.877 6.96e-09 ***\n",
       "RegionNameTN          -5.873e+04  1.873e+04  -3.135  0.00180 ** \n",
       "RegionNameTX           7.850e+04  2.659e+04   2.952  0.00328 ** \n",
       "RegionNameUT           1.798e+04  1.835e+04   0.980  0.32751    \n",
       "RegionNameVA           1.477e+04  1.936e+04   0.763  0.44577    \n",
       "RegionNameVT          -4.842e+04  1.822e+04  -2.658  0.00807 ** \n",
       "RegionNameWA           2.297e+05  2.300e+04   9.987  < 2e-16 ***\n",
       "RegionNameWI          -5.279e+04  1.945e+04  -2.715  0.00682 ** \n",
       "RegionNameWV          -1.783e+05  1.824e+04  -9.775  < 2e-16 ***\n",
       "RegionNameWY          -6.086e+04  1.826e+04  -3.334  0.00091 ***\n",
       "Overall.Homeless      -1.840e-02  4.446e-01  -0.041  0.96700    \n",
       "Sheltered.ES.Homeless -1.578e+00  1.145e+00  -1.378  0.16871    \n",
       "Sheltered.TH.Homeless -3.045e+01  1.713e+00 -17.778  < 2e-16 ***\n",
       "Sheltered.SH.Homeless -9.390e+01  9.892e+01  -0.949  0.34288    \n",
       "Unsheltered.Homeless          NA         NA      NA       NA    \n",
       "---\n",
       "Signif. codes:  0 '***' 0.001 '**' 0.01 '*' 0.05 '.' 0.1 ' ' 1\n",
       "\n",
       "Residual standard error: 46430 on 596 degrees of freedom\n",
       "Multiple R-squared:  0.8193,\tAdjusted R-squared:  0.8033 \n",
       "F-statistic:    51 on 53 and 596 DF,  p-value: < 2.2e-16\n"
      ]
     },
     "metadata": {},
     "output_type": "display_data"
    }
   ],
   "source": [
    "# what if the sheltered type is not categorical dummy variable\n",
    "train_new <- df[df$date != 2023, ]\n",
    "test_new <- df[df$date == 2023, ]\n",
    "\n",
    "model2 <- lm(avg_ZHVI ~ RegionName + Overall.Homeless + Sheltered.ES.Homeless + Sheltered.TH.Homeless + Sheltered.SH.Homeless + Unsheltered.Homeless, data = train_new)\n",
    "summary(model2)"
   ]
  },
  {
   "cell_type": "markdown",
   "id": "e52f4064-4ded-4e0c-bdda-2e48d1cd659f",
   "metadata": {},
   "source": [
    "I tried to do another model with Unsheltered instead of Overall Homeless and again the model shows it gives multicollinearity and so does the NA. For the first model, with a threshold of 0.05 we would reject: Region CT, Region DE, Region GA, Region IL, Region MN, Region NC, Region NH, Region NV, Region PA, Region RI, Region UT, Region VA, Overall Homeless, Sheltered ES, Sheltered SH. As we can see aside from TH Homeless, none of the others are significant predictors. For the second model, it's the same thing. If I run the model with everything: RegionName, avg_ZHVI, Sheltered, Overall and Unsheltered, then it automatically decides Sheltered SH has multicollinearity and the rest of the homeless predictors are significant at a 0.1 level but not at a 0.05. "
   ]
  },
  {
   "cell_type": "code",
   "execution_count": 10,
   "id": "5e24175a-8e0b-4753-b651-88bc72e059cc",
   "metadata": {},
   "outputs": [
    {
     "data": {
      "text/plain": [
       "\n",
       "Call:\n",
       "lm(formula = avg_ZHVI ~ RegionName + Overall.Homeless + Sheltered.ES.Homeless + \n",
       "    Sheltered.TH.Homeless + Sheltered.SH.Homeless, data = train_new)\n",
       "\n",
       "Residuals:\n",
       "    Min      1Q  Median      3Q     Max \n",
       "-116228  -21640   -6756   15196  239854 \n",
       "\n",
       "Coefficients:\n",
       "                        Estimate Std. Error t value Pr(>|t|)    \n",
       "(Intercept)            3.002e+05  1.300e+04  23.092  < 2e-16 ***\n",
       "RegionNameAL          -1.110e+05  1.849e+04  -6.003 3.37e-09 ***\n",
       "RegionNameAR          -1.470e+05  1.822e+04  -8.068 3.94e-15 ***\n",
       "RegionNameAZ           2.961e+04  1.965e+04   1.507  0.13241    \n",
       "RegionNameCA           7.643e+05  6.271e+04  12.188  < 2e-16 ***\n",
       "RegionNameCO           1.325e+05  1.954e+04   6.781 2.88e-11 ***\n",
       "RegionNameCT          -1.659e+04  1.828e+04  -0.908  0.36438    \n",
       "RegionNameDE          -3.550e+04  1.822e+04  -1.948  0.05188 .  \n",
       "RegionNameFL           1.690e+05  3.023e+04   5.589 3.49e-08 ***\n",
       "RegionNameGA          -2.067e+04  1.940e+04  -1.066  0.28698    \n",
       "RegionNameHI           3.103e+05  1.856e+04  16.720  < 2e-16 ***\n",
       "RegionNameIA          -1.172e+05  1.829e+04  -6.407 3.02e-10 ***\n",
       "RegionNameID          -4.443e+04  1.822e+04  -2.439  0.01502 *  \n",
       "RegionNameIL           2.660e+04  2.203e+04   1.207  0.22780    \n",
       "RegionNameIN          -9.950e+04  1.899e+04  -5.239 2.25e-07 ***\n",
       "RegionNameKS          -1.372e+05  1.824e+04  -7.524 1.96e-13 ***\n",
       "RegionNameKY          -1.274e+05  1.836e+04  -6.937 1.05e-11 ***\n",
       "RegionNameLA          -8.474e+04  1.867e+04  -4.538 6.86e-06 ***\n",
       "RegionNameMA           1.921e+05  2.501e+04   7.682 6.49e-14 ***\n",
       "RegionNameMD           6.489e+04  1.993e+04   3.255  0.00120 ** \n",
       "RegionNameME          -4.485e+04  1.831e+04  -2.450  0.01457 *  \n",
       "RegionNameMI          -4.999e+04  2.040e+04  -2.451  0.01454 *  \n",
       "RegionNameMN           2.087e+03  1.902e+04   0.110  0.91265    \n",
       "RegionNameMO          -7.806e+04  1.919e+04  -4.067 5.40e-05 ***\n",
       "RegionNameMS          -1.593e+05  1.823e+04  -8.738  < 2e-16 ***\n",
       "RegionNameMT          -4.533e+04  1.822e+04  -2.487  0.01314 *  \n",
       "RegionNameNC          -2.865e+04  1.928e+04  -1.486  0.13775    \n",
       "RegionNameND          -8.782e+04  1.825e+04  -4.811 1.91e-06 ***\n",
       "RegionNameNE          -1.096e+05  1.825e+04  -6.006 3.31e-09 ***\n",
       "RegionNameNH          -2.641e+04  1.823e+04  -1.449  0.14783    \n",
       "RegionNameNJ           1.162e+05  1.990e+04   5.839 8.62e-09 ***\n",
       "RegionNameNM          -9.208e+04  1.822e+04  -5.054 5.75e-07 ***\n",
       "RegionNameNV          -5.660e+03  1.867e+04  -0.303  0.76183    \n",
       "RegionNameNY           3.606e+05  7.925e+04   4.551 6.48e-06 ***\n",
       "RegionNameOH          -5.680e+04  2.187e+04  -2.597  0.00963 ** \n",
       "RegionNameOK          -1.452e+05  1.851e+04  -7.842 2.05e-14 ***\n",
       "RegionNameOR           9.400e+04  1.925e+04   4.883 1.35e-06 ***\n",
       "RegionNamePA           5.689e+04  3.220e+04   1.766  0.07783 .  \n",
       "RegionNameRI          -2.407e+04  1.823e+04  -1.320  0.18727    \n",
       "RegionNameSC          -8.981e+04  1.831e+04  -4.906 1.20e-06 ***\n",
       "RegionNameSD          -1.072e+05  1.823e+04  -5.877 6.96e-09 ***\n",
       "RegionNameTN          -5.873e+04  1.873e+04  -3.135  0.00180 ** \n",
       "RegionNameTX           7.850e+04  2.659e+04   2.952  0.00328 ** \n",
       "RegionNameUT           1.798e+04  1.835e+04   0.980  0.32751    \n",
       "RegionNameVA           1.477e+04  1.936e+04   0.763  0.44577    \n",
       "RegionNameVT          -4.842e+04  1.822e+04  -2.658  0.00807 ** \n",
       "RegionNameWA           2.297e+05  2.300e+04   9.987  < 2e-16 ***\n",
       "RegionNameWI          -5.279e+04  1.945e+04  -2.715  0.00682 ** \n",
       "RegionNameWV          -1.783e+05  1.824e+04  -9.775  < 2e-16 ***\n",
       "RegionNameWY          -6.086e+04  1.826e+04  -3.334  0.00091 ***\n",
       "Overall.Homeless      -1.840e-02  4.446e-01  -0.041  0.96700    \n",
       "Sheltered.ES.Homeless -1.578e+00  1.145e+00  -1.378  0.16871    \n",
       "Sheltered.TH.Homeless -3.045e+01  1.713e+00 -17.778  < 2e-16 ***\n",
       "Sheltered.SH.Homeless -9.390e+01  9.892e+01  -0.949  0.34288    \n",
       "---\n",
       "Signif. codes:  0 '***' 0.001 '**' 0.01 '*' 0.05 '.' 0.1 ' ' 1\n",
       "\n",
       "Residual standard error: 46430 on 596 degrees of freedom\n",
       "Multiple R-squared:  0.8193,\tAdjusted R-squared:  0.8033 \n",
       "F-statistic:    51 on 53 and 596 DF,  p-value: < 2.2e-16\n"
      ]
     },
     "metadata": {},
     "output_type": "display_data"
    }
   ],
   "source": [
    "#take out Unsheltered.Homeless\n",
    "model3 <- lm(avg_ZHVI ~ RegionName + Overall.Homeless + Sheltered.ES.Homeless + Sheltered.TH.Homeless + Sheltered.SH.Homeless, data = train_new)\n",
    "summary(model3)"
   ]
  },
  {
   "cell_type": "code",
   "execution_count": 12,
   "id": "515f289c-6fbb-4fe3-a7dc-6ac0e6e02c0d",
   "metadata": {},
   "outputs": [
    {
     "data": {
      "text/plain": [
       "\n",
       "Call:\n",
       "lm(formula = avg_ZHVI ~ RegionName + date + Unsheltered.Homeless + \n",
       "    Overall.Homeless + Sheltered.ES.Homeless + Sheltered.TH.Homeless + \n",
       "    Sheltered.SH.Homeless, data = train_new)\n",
       "\n",
       "Residuals:\n",
       "   Min     1Q Median     3Q    Max \n",
       "-96033 -11472    492  12668 156103 \n",
       "\n",
       "Coefficients: (1 not defined because of singularities)\n",
       "                        Estimate Std. Error t value Pr(>|t|)    \n",
       "(Intercept)            257340.05    9183.25  28.023  < 2e-16 ***\n",
       "RegionNameAL          -133161.19   11445.35 -11.635  < 2e-16 ***\n",
       "RegionNameAR          -147045.92   11239.38 -13.083  < 2e-16 ***\n",
       "RegionNameAZ           -32673.08   12379.68  -2.639 0.008531 ** \n",
       "RegionNameCA           286307.59   43564.78   6.572 1.10e-10 ***\n",
       "RegionNameCO            66475.08   12346.86   5.384 1.06e-07 ***\n",
       "RegionNameCT           -26880.18   11281.69  -2.383 0.017508 *  \n",
       "RegionNameDE           -31746.80   11243.92  -2.823 0.004913 ** \n",
       "RegionNameFL           -32608.77   20376.58  -1.600 0.110071    \n",
       "RegionNameGA           -83655.80   12246.84  -6.831 2.13e-11 ***\n",
       "RegionNameHI           275997.14   11530.81  23.936  < 2e-16 ***\n",
       "RegionNameIA          -134837.34   11304.46 -11.928  < 2e-16 ***\n",
       "RegionNameID           -44168.40   11236.95  -3.931 9.49e-05 ***\n",
       "RegionNameIL           -79938.97   14243.48  -5.612 3.09e-08 ***\n",
       "RegionNameIN          -138010.93   11818.96 -11.677  < 2e-16 ***\n",
       "RegionNameKS          -144229.70   11253.05 -12.817  < 2e-16 ***\n",
       "RegionNameKY          -149180.59   11360.53 -13.131  < 2e-16 ***\n",
       "RegionNameLA          -111516.08   11572.17  -9.637  < 2e-16 ***\n",
       "RegionNameMA            97029.07   15897.43   6.103 1.89e-09 ***\n",
       "RegionNameMD            13495.62   12479.93   1.081 0.279972    \n",
       "RegionNameME           -62287.88   11313.98  -5.505 5.52e-08 ***\n",
       "RegionNameMI          -125795.45   12942.42  -9.720  < 2e-16 ***\n",
       "RegionNameMN           -49330.58   11914.81  -4.140 3.98e-05 ***\n",
       "RegionNameMO          -124749.12   11988.38 -10.406  < 2e-16 ***\n",
       "RegionNameMS          -155762.82   11248.68 -13.847  < 2e-16 ***\n",
       "RegionNameMT           -40717.66   11243.73  -3.621 0.000319 ***\n",
       "RegionNameNC           -80373.83   12078.47  -6.654 6.56e-11 ***\n",
       "RegionNameND           -80125.68   11265.90  -7.112 3.35e-12 ***\n",
       "RegionNameNE          -121544.67   11269.97 -10.785  < 2e-16 ***\n",
       "RegionNameNH           -26156.69   11244.96  -2.326 0.020356 *  \n",
       "RegionNameNJ            57104.95   12504.93   4.567 6.05e-06 ***\n",
       "RegionNameNM           -95832.17   11239.33  -8.527  < 2e-16 ***\n",
       "RegionNameNV           -37807.60   11590.72  -3.262 0.001171 ** \n",
       "RegionNameNY            12452.96   50912.96   0.245 0.806857    \n",
       "RegionNameOH          -137896.97   13886.31  -9.930  < 2e-16 ***\n",
       "RegionNameOK          -158094.44   11435.00 -13.825  < 2e-16 ***\n",
       "RegionNameOR            37653.40   12105.75   3.110 0.001960 ** \n",
       "RegionNamePA           -95958.88   20879.42  -4.596 5.28e-06 ***\n",
       "RegionNameRI           -20530.13   11250.28  -1.825 0.068534 .  \n",
       "RegionNameSC          -105933.47   11311.31  -9.365  < 2e-16 ***\n",
       "RegionNameSD           -99647.66   11252.91  -8.855  < 2e-16 ***\n",
       "RegionNameTN           -97429.19   11662.21  -8.354 4.81e-16 ***\n",
       "RegionNameTX           -71312.77   17494.90  -4.076 5.21e-05 ***\n",
       "RegionNameUT             7293.28   11328.69   0.644 0.519965    \n",
       "RegionNameVA           -24934.91   12054.61  -2.068 0.039033 *  \n",
       "RegionNameVT           -43652.12   11240.66  -3.883 0.000115 ***\n",
       "RegionNameWA            96152.77   15176.77   6.336 4.73e-10 ***\n",
       "RegionNameWI           -96125.03   12127.48  -7.926 1.15e-14 ***\n",
       "RegionNameWV          -175673.70   11255.12 -15.608  < 2e-16 ***\n",
       "RegionNameWY           -51868.60   11267.61  -4.603 5.10e-06 ***\n",
       "date2011               -11420.23    5770.21  -1.979 0.048266 *  \n",
       "date2012               -14031.03    5784.78  -2.426 0.015589 *  \n",
       "date2013                -6379.05    5805.16  -1.099 0.272282    \n",
       "date2014                 1316.22    5832.83   0.226 0.821547    \n",
       "date2015                 8038.14    5862.77   1.371 0.170887    \n",
       "date2016                17026.84    5916.71   2.878 0.004152 ** \n",
       "date2017                24492.61    6038.83   4.056 5.67e-05 ***\n",
       "date2018                32828.45    6171.66   5.319 1.49e-07 ***\n",
       "date2019                42232.75    6212.12   6.798 2.62e-11 ***\n",
       "date2020                56785.22    6236.14   9.106  < 2e-16 ***\n",
       "date2021                95726.44    6434.92  14.876  < 2e-16 ***\n",
       "date2022               134562.68    6321.67  21.286  < 2e-16 ***\n",
       "Unsheltered.Homeless     -110.15      62.71  -1.756 0.079547 .  \n",
       "Overall.Homeless          110.40      62.67   1.762 0.078666 .  \n",
       "Sheltered.ES.Homeless    -109.37      62.66  -1.745 0.081447 .  \n",
       "Sheltered.TH.Homeless    -120.72      62.49  -1.932 0.053869 .  \n",
       "Sheltered.SH.Homeless         NA         NA      NA       NA    \n",
       "---\n",
       "Signif. codes:  0 '***' 0.001 '**' 0.01 '*' 0.05 '.' 0.1 ' ' 1\n",
       "\n",
       "Residual standard error: 28640 on 584 degrees of freedom\n",
       "Multiple R-squared:  0.9326,\tAdjusted R-squared:  0.9251 \n",
       "F-statistic: 124.4 on 65 and 584 DF,  p-value: < 2.2e-16\n"
      ]
     },
     "metadata": {},
     "output_type": "display_data"
    }
   ],
   "source": [
    "model4 <- lm(avg_ZHVI ~ RegionName + date + Unsheltered.Homeless + Overall.Homeless + Sheltered.ES.Homeless + Sheltered.TH.Homeless + Sheltered.SH.Homeless, data = train_new)\n",
    "summary(model4)"
   ]
  },
  {
   "cell_type": "code",
   "execution_count": 14,
   "id": "ff4c12c7-a8ab-42da-be2a-edbe7cf65a9f",
   "metadata": {},
   "outputs": [
    {
     "data": {
      "text/plain": [
       "\n",
       "Call:\n",
       "lm(formula = avg_ZHVI ~ RegionName + date + Unsheltered.Homeless + \n",
       "    Overall.Homeless + Sheltered.ES.Homeless + Sheltered.TH.Homeless, \n",
       "    data = train_new)\n",
       "\n",
       "Residuals:\n",
       "   Min     1Q Median     3Q    Max \n",
       "-96033 -11472    492  12668 156103 \n",
       "\n",
       "Coefficients:\n",
       "                        Estimate Std. Error t value Pr(>|t|)    \n",
       "(Intercept)            257340.05    9183.25  28.023  < 2e-16 ***\n",
       "RegionNameAL          -133161.19   11445.35 -11.635  < 2e-16 ***\n",
       "RegionNameAR          -147045.92   11239.38 -13.083  < 2e-16 ***\n",
       "RegionNameAZ           -32673.08   12379.68  -2.639 0.008531 ** \n",
       "RegionNameCA           286307.59   43564.78   6.572 1.10e-10 ***\n",
       "RegionNameCO            66475.08   12346.86   5.384 1.06e-07 ***\n",
       "RegionNameCT           -26880.18   11281.69  -2.383 0.017508 *  \n",
       "RegionNameDE           -31746.80   11243.92  -2.823 0.004913 ** \n",
       "RegionNameFL           -32608.77   20376.58  -1.600 0.110071    \n",
       "RegionNameGA           -83655.80   12246.84  -6.831 2.13e-11 ***\n",
       "RegionNameHI           275997.14   11530.81  23.936  < 2e-16 ***\n",
       "RegionNameIA          -134837.34   11304.46 -11.928  < 2e-16 ***\n",
       "RegionNameID           -44168.40   11236.95  -3.931 9.49e-05 ***\n",
       "RegionNameIL           -79938.97   14243.48  -5.612 3.09e-08 ***\n",
       "RegionNameIN          -138010.93   11818.96 -11.677  < 2e-16 ***\n",
       "RegionNameKS          -144229.70   11253.05 -12.817  < 2e-16 ***\n",
       "RegionNameKY          -149180.59   11360.53 -13.131  < 2e-16 ***\n",
       "RegionNameLA          -111516.08   11572.17  -9.637  < 2e-16 ***\n",
       "RegionNameMA            97029.07   15897.43   6.103 1.89e-09 ***\n",
       "RegionNameMD            13495.62   12479.93   1.081 0.279972    \n",
       "RegionNameME           -62287.88   11313.98  -5.505 5.52e-08 ***\n",
       "RegionNameMI          -125795.45   12942.42  -9.720  < 2e-16 ***\n",
       "RegionNameMN           -49330.58   11914.81  -4.140 3.98e-05 ***\n",
       "RegionNameMO          -124749.12   11988.38 -10.406  < 2e-16 ***\n",
       "RegionNameMS          -155762.82   11248.68 -13.847  < 2e-16 ***\n",
       "RegionNameMT           -40717.66   11243.73  -3.621 0.000319 ***\n",
       "RegionNameNC           -80373.83   12078.47  -6.654 6.56e-11 ***\n",
       "RegionNameND           -80125.68   11265.90  -7.112 3.35e-12 ***\n",
       "RegionNameNE          -121544.67   11269.97 -10.785  < 2e-16 ***\n",
       "RegionNameNH           -26156.69   11244.96  -2.326 0.020356 *  \n",
       "RegionNameNJ            57104.95   12504.93   4.567 6.05e-06 ***\n",
       "RegionNameNM           -95832.17   11239.33  -8.527  < 2e-16 ***\n",
       "RegionNameNV           -37807.60   11590.72  -3.262 0.001171 ** \n",
       "RegionNameNY            12452.96   50912.96   0.245 0.806857    \n",
       "RegionNameOH          -137896.97   13886.31  -9.930  < 2e-16 ***\n",
       "RegionNameOK          -158094.44   11435.00 -13.825  < 2e-16 ***\n",
       "RegionNameOR            37653.40   12105.75   3.110 0.001960 ** \n",
       "RegionNamePA           -95958.88   20879.42  -4.596 5.28e-06 ***\n",
       "RegionNameRI           -20530.13   11250.28  -1.825 0.068534 .  \n",
       "RegionNameSC          -105933.47   11311.31  -9.365  < 2e-16 ***\n",
       "RegionNameSD           -99647.66   11252.91  -8.855  < 2e-16 ***\n",
       "RegionNameTN           -97429.19   11662.21  -8.354 4.81e-16 ***\n",
       "RegionNameTX           -71312.77   17494.90  -4.076 5.21e-05 ***\n",
       "RegionNameUT             7293.28   11328.69   0.644 0.519965    \n",
       "RegionNameVA           -24934.91   12054.61  -2.068 0.039033 *  \n",
       "RegionNameVT           -43652.12   11240.66  -3.883 0.000115 ***\n",
       "RegionNameWA            96152.77   15176.77   6.336 4.73e-10 ***\n",
       "RegionNameWI           -96125.03   12127.48  -7.926 1.15e-14 ***\n",
       "RegionNameWV          -175673.70   11255.12 -15.608  < 2e-16 ***\n",
       "RegionNameWY           -51868.60   11267.61  -4.603 5.10e-06 ***\n",
       "date2011               -11420.23    5770.21  -1.979 0.048266 *  \n",
       "date2012               -14031.03    5784.78  -2.426 0.015589 *  \n",
       "date2013                -6379.05    5805.16  -1.099 0.272282    \n",
       "date2014                 1316.22    5832.83   0.226 0.821547    \n",
       "date2015                 8038.14    5862.77   1.371 0.170887    \n",
       "date2016                17026.84    5916.71   2.878 0.004152 ** \n",
       "date2017                24492.61    6038.83   4.056 5.67e-05 ***\n",
       "date2018                32828.45    6171.66   5.319 1.49e-07 ***\n",
       "date2019                42232.75    6212.12   6.798 2.62e-11 ***\n",
       "date2020                56785.22    6236.14   9.106  < 2e-16 ***\n",
       "date2021                95726.44    6434.92  14.876  < 2e-16 ***\n",
       "date2022               134562.68    6321.67  21.286  < 2e-16 ***\n",
       "Unsheltered.Homeless     -110.15      62.71  -1.756 0.079547 .  \n",
       "Overall.Homeless          110.40      62.67   1.762 0.078666 .  \n",
       "Sheltered.ES.Homeless    -109.37      62.66  -1.745 0.081447 .  \n",
       "Sheltered.TH.Homeless    -120.72      62.49  -1.932 0.053869 .  \n",
       "---\n",
       "Signif. codes:  0 '***' 0.001 '**' 0.01 '*' 0.05 '.' 0.1 ' ' 1\n",
       "\n",
       "Residual standard error: 28640 on 584 degrees of freedom\n",
       "Multiple R-squared:  0.9326,\tAdjusted R-squared:  0.9251 \n",
       "F-statistic: 124.4 on 65 and 584 DF,  p-value: < 2.2e-16\n"
      ]
     },
     "metadata": {},
     "output_type": "display_data"
    }
   ],
   "source": [
    "#same as model3_copy but without Sheltered SH\n",
    "model5 <- lm(avg_ZHVI ~ RegionName + date + Unsheltered.Homeless + Overall.Homeless + Sheltered.ES.Homeless + Sheltered.TH.Homeless, data = train_new)\n",
    "summary(model5)"
   ]
  },
  {
   "cell_type": "code",
   "execution_count": 16,
   "id": "58006e65-68f8-4af2-9b50-f2f9708ad7ae",
   "metadata": {},
   "outputs": [
    {
     "data": {
      "image/png": "[encoded data removed]",
      "text/plain": [
       "plot without title"
      ]
     },
     "metadata": {
      "image/png": {
       "height": 420,
       "width": 420
      }
     },
     "output_type": "display_data"
    }
   ],
   "source": [
    "# linearity assumption\n",
    "resids_copy <- rstandard(model5)\n",
    "par(mfrow = c(2, 2))\n",
    "plot(train_new$Sheltered.ES.Homeless, resids_copy,\n",
    "     xlab = 'Sheltered ES Homeless',\n",
    "     ylab = 'Standardized Reisduals',\n",
    "     abline(h = 0, col = 'red')\n",
    "     )\n",
    "plot(train_new$Sheltered.TH.Homeless, resids_copy,\n",
    "     xlab = 'Sheltered TH Homeless',\n",
    "     ylab = 'Standardized Reisduals',\n",
    "     abline(h = 0, col = 'red')\n",
    "     )\n",
    "plot(train_new$Sheltered.SH.Homeless, resids_copy,\n",
    "     xlab = 'Sheltered SH Homeless',\n",
    "     ylab = 'Standardized Reisduals',\n",
    "     abline(h = 0, col = 'red')\n",
    "     )\n",
    "plot(train_new$Unsheltered.Homeless, resids_copy,\n",
    "     xlab = 'Unsheltered Homeless',\n",
    "     ylab = 'Standardized Reisduals',\n",
    "     abline(h = 0, col = 'red')\n",
    "     )"
   ]
  },
  {
   "cell_type": "markdown",
   "id": "be3cf722-d9e5-4870-b127-bfb61cdbeef8",
   "metadata": {},
   "source": [
    "Linearity Assumption sticks around the y = 0 line for all predictors pretty evenly, yet for all of them they are concentrated to the left side of the plots. Therefore, the linearity assumption does not hold. "
   ]
  },
  {
   "cell_type": "code",
   "execution_count": 19,
   "id": "b3addd92-3374-4d46-804e-bfb9a75db5ed",
   "metadata": {},
   "outputs": [
    {
     "data": {
      "image/png": "[encoded data removed]",
      "text/plain": [
       "plot without title"
      ]
     },
     "metadata": {
      "image/png": {
       "height": 420,
       "width": 420
      }
     },
     "output_type": "display_data"
    }
   ],
   "source": [
    "# constant variance assumption\n",
    "plot(model5$fitted.values, resids_copy,\n",
    "     xlab = 'Fitted Values',\n",
    "     ylab = 'Standardized Residuals',\n",
    "     abline(h = 0, col = 'red')\n",
    "     )"
   ]
  },
  {
   "cell_type": "markdown",
   "id": "71b587ad-277e-4c07-b66d-c8dcbad8322f",
   "metadata": {},
   "source": [
    "Constant Variance assumption hold when the spread of residuals is consistent as fitted values change. Therefore, by looking at the graph above constant variance assumption des not hold. This is because as fitted values increase there are more standardized residuals above the y = 0 line. "
   ]
  },
  {
   "cell_type": "code",
   "execution_count": 22,
   "id": "434e7a5a-6ebd-4000-abda-d2136ccaf4eb",
   "metadata": {},
   "outputs": [
    {
     "data": {
      "image/png": "[encoded data removed]",
      "text/plain": [
       "Plot with title \"Histogram of resids_copy\""
      ]
     },
     "metadata": {
      "image/png": {
       "height": 420,
       "width": 420
      }
     },
     "output_type": "display_data"
    },
    {
     "data": {
      "text/html": [
       "<style>\n",
       ".list-inline {list-style: none; margin:0; padding: 0}\n",
       ".list-inline>li {display: inline-block}\n",
       ".list-inline>li:not(:last-child)::after {content: \"\\00b7\"; padding: 0 .5ex}\n",
       "</style>\n",
       "<ol class=list-inline><li>143</li><li>572</li></ol>\n"
      ],
      "text/latex": [
       "\\begin{enumerate*}\n",
       "\\item 143\n",
       "\\item 572\n",
       "\\end{enumerate*}\n"
      ],
      "text/markdown": [
       "1. 143\n",
       "2. 572\n",
       "\n",
       "\n"
      ],
      "text/plain": [
       "[1] 143 572"
      ]
     },
     "metadata": {},
     "output_type": "display_data"
    },
    {
     "data": {
      "image/png": "[encoded data removed]",
      "text/plain": [
       "plot without title"
      ]
     },
     "metadata": {
      "image/png": {
       "height": 420,
       "width": 420
      }
     },
     "output_type": "display_data"
    }
   ],
   "source": [
    "# normality assumption\n",
    "hist(resids_copy, col = 'blue')\n",
    "qqPlot(resids_copy, envelope = 0.95)"
   ]
  },
  {
   "cell_type": "markdown",
   "id": "819d502f-39a3-4427-9333-c12a534786c6",
   "metadata": {},
   "source": [
    "The histogram shows the standardized residuals are right tailed. The QQ plot shows how there it has two tails and therefore not fall within the 95% confidence interval and thus not follow a normal distribution. From all four plots, none of the assumptions hold. Therefore, homeless data does not work for this project. "
   ]
  },
  {
   "cell_type": "code",
   "execution_count": 24,
   "id": "02a7c52b-cb48-4585-8a3d-288c48025dd6",
   "metadata": {},
   "outputs": [
    {
     "name": "stdout",
     "output_type": "stream",
     "text": [
      "Optimal lambda:  -0.5 \n"
     ]
    },
    {
     "data": {
      "image/png": "[encoded data removed]",
      "text/plain": [
       "Plot with title \"Profile Log-likelihood\""
      ]
     },
     "metadata": {
      "image/png": {
       "height": 420,
       "width": 420
      }
     },
     "output_type": "display_data"
    }
   ],
   "source": [
    "bc = boxCox(model5)\n",
    "\n",
    "opt.lambda = bc$x[which.max(bc$y)]\n",
    "cat('Optimal lambda: ', round(opt.lambda/0.5) * 0.5, '\\n')"
   ]
  },
  {
   "cell_type": "code",
   "execution_count": 25,
   "id": "8e195a44-d640-4db0-8646-4b6fe62da121",
   "metadata": {},
   "outputs": [
    {
     "data": {
      "text/plain": [
       "\n",
       "Call:\n",
       "lm(formula = (1/sqrt(avg_ZHVI)) ~ RegionName + date + Unsheltered.Homeless + \n",
       "    Overall.Homeless + Sheltered.ES.Homeless + Sheltered.TH.Homeless, \n",
       "    data = train_new)\n",
       "\n",
       "Residuals:\n",
       "       Min         1Q     Median         3Q        Max \n",
       "-2.904e-04 -4.396e-05 -1.400e-06  3.744e-05  3.678e-04 \n",
       "\n",
       "Coefficients:\n",
       "                        Estimate Std. Error t value Pr(>|t|)    \n",
       "(Intercept)            2.053e-03  2.613e-05  78.552  < 2e-16 ***\n",
       "RegionNameAL           7.432e-04  3.257e-05  22.822  < 2e-16 ***\n",
       "RegionNameAR           8.506e-04  3.198e-05  26.596  < 2e-16 ***\n",
       "RegionNameAZ           1.868e-04  3.523e-05   5.302 1.63e-07 ***\n",
       "RegionNameCA          -1.062e-03  1.240e-04  -8.567  < 2e-16 ***\n",
       "RegionNameCO          -1.719e-04  3.513e-05  -4.894 1.28e-06 ***\n",
       "RegionNameCT           8.809e-05  3.210e-05   2.744 0.006255 ** \n",
       "RegionNameDE           1.248e-04  3.199e-05   3.902 0.000106 ***\n",
       "RegionNameFL           1.412e-04  5.798e-05   2.436 0.015154 *  \n",
       "RegionNameGA           4.765e-04  3.485e-05  13.673  < 2e-16 ***\n",
       "RegionNameHI          -5.509e-04  3.281e-05 -16.790  < 2e-16 ***\n",
       "RegionNameIA           7.828e-04  3.217e-05  24.335  < 2e-16 ***\n",
       "RegionNameID           2.737e-04  3.197e-05   8.560  < 2e-16 ***\n",
       "RegionNameIL           4.042e-04  4.053e-05   9.973  < 2e-16 ***\n",
       "RegionNameIN           8.031e-04  3.363e-05  23.881  < 2e-16 ***\n",
       "RegionNameKS           8.410e-04  3.202e-05  26.266  < 2e-16 ***\n",
       "RegionNameKY           9.334e-04  3.233e-05  28.875  < 2e-16 ***\n",
       "RegionNameLA           5.398e-04  3.293e-05  16.392  < 2e-16 ***\n",
       "RegionNameMA          -3.872e-04  4.523e-05  -8.560  < 2e-16 ***\n",
       "RegionNameMD          -7.365e-05  3.551e-05  -2.074 0.038520 *  \n",
       "RegionNameME           2.967e-04  3.219e-05   9.215  < 2e-16 ***\n",
       "RegionNameMI           7.778e-04  3.683e-05  21.121  < 2e-16 ***\n",
       "RegionNameMN           2.400e-04  3.390e-05   7.079 4.18e-12 ***\n",
       "RegionNameMO           6.878e-04  3.411e-05  20.164  < 2e-16 ***\n",
       "RegionNameMS           9.435e-04  3.201e-05  29.479  < 2e-16 ***\n",
       "RegionNameMT           1.984e-04  3.199e-05   6.203 1.05e-09 ***\n",
       "RegionNameNC           3.918e-04  3.437e-05  11.399  < 2e-16 ***\n",
       "RegionNameND           3.418e-04  3.206e-05  10.661  < 2e-16 ***\n",
       "RegionNameNE           6.585e-04  3.207e-05  20.535  < 2e-16 ***\n",
       "RegionNameNH           1.222e-04  3.200e-05   3.818 0.000149 ***\n",
       "RegionNameNJ          -2.119e-04  3.558e-05  -5.955 4.48e-09 ***\n",
       "RegionNameNM           4.479e-04  3.198e-05  14.004  < 2e-16 ***\n",
       "RegionNameNV           2.252e-04  3.298e-05   6.829 2.15e-11 ***\n",
       "RegionNameNY          -7.458e-04  1.449e-04  -5.148 3.60e-07 ***\n",
       "RegionNameOH           7.745e-04  3.951e-05  19.601  < 2e-16 ***\n",
       "RegionNameOK           9.290e-04  3.254e-05  28.551  < 2e-16 ***\n",
       "RegionNameOR          -9.213e-05  3.445e-05  -2.675 0.007692 ** \n",
       "RegionNamePA           3.839e-04  5.941e-05   6.461 2.19e-10 ***\n",
       "RegionNameRI           9.260e-05  3.201e-05   2.893 0.003964 ** \n",
       "RegionNameSC           5.363e-04  3.219e-05  16.663  < 2e-16 ***\n",
       "RegionNameSD           4.791e-04  3.202e-05  14.962  < 2e-16 ***\n",
       "RegionNameTN           5.085e-04  3.318e-05  15.325  < 2e-16 ***\n",
       "RegionNameTX           2.943e-04  4.978e-05   5.912 5.77e-09 ***\n",
       "RegionNameUT           2.692e-05  3.223e-05   0.835 0.403972    \n",
       "RegionNameVA           5.815e-05  3.430e-05   1.695 0.090527 .  \n",
       "RegionNameVT           1.701e-04  3.198e-05   5.319 1.49e-07 ***\n",
       "RegionNameWA          -2.791e-04  4.318e-05  -6.464 2.15e-10 ***\n",
       "RegionNameWI           4.501e-04  3.451e-05  13.044  < 2e-16 ***\n",
       "RegionNameWV           1.150e-03  3.203e-05  35.901  < 2e-16 ***\n",
       "RegionNameWY           2.109e-04  3.206e-05   6.579 1.06e-10 ***\n",
       "date2011               6.281e-05  1.642e-05   3.826 0.000144 ***\n",
       "date2012               6.935e-05  1.646e-05   4.213 2.92e-05 ***\n",
       "date2013               9.506e-06  1.652e-05   0.575 0.565186    \n",
       "date2014              -4.803e-05  1.660e-05  -2.894 0.003947 ** \n",
       "date2015              -9.846e-05  1.668e-05  -5.902 6.09e-09 ***\n",
       "date2016              -1.523e-04  1.684e-05  -9.048  < 2e-16 ***\n",
       "date2017              -2.001e-04  1.718e-05 -11.645  < 2e-16 ***\n",
       "date2018              -2.548e-04  1.756e-05 -14.511  < 2e-16 ***\n",
       "date2019              -3.040e-04  1.768e-05 -17.199  < 2e-16 ***\n",
       "date2020              -3.686e-04  1.774e-05 -20.772  < 2e-16 ***\n",
       "date2021              -4.905e-04  1.831e-05 -26.788  < 2e-16 ***\n",
       "date2022              -6.122e-04  1.799e-05 -34.034  < 2e-16 ***\n",
       "Unsheltered.Homeless   4.005e-09  1.784e-07   0.022 0.982103    \n",
       "Overall.Homeless      -2.469e-09  1.783e-07  -0.014 0.988961    \n",
       "Sheltered.ES.Homeless  1.028e-08  1.783e-07   0.058 0.954032    \n",
       "Sheltered.TH.Homeless  2.360e-08  1.778e-07   0.133 0.894438    \n",
       "---\n",
       "Signif. codes:  0 '***' 0.001 '**' 0.01 '*' 0.05 '.' 0.1 ' ' 1\n",
       "\n",
       "Residual standard error: 8.15e-05 on 584 degrees of freedom\n",
       "Multiple R-squared:   0.97,\tAdjusted R-squared:  0.9667 \n",
       "F-statistic: 290.7 on 65 and 584 DF,  p-value: < 2.2e-16\n"
      ]
     },
     "metadata": {},
     "output_type": "display_data"
    }
   ],
   "source": [
    "model6 <- lm( (1/sqrt(avg_ZHVI)) ~ RegionName + date + Unsheltered.Homeless + Overall.Homeless + Sheltered.ES.Homeless + Sheltered.TH.Homeless, data = train_new)\n",
    "summary(model6)"
   ]
  },
  {
   "cell_type": "markdown",
   "id": "8889ff44-4136-4a48-8718-58657243907c",
   "metadata": {},
   "source": [
    "Optimal Log was found to be -0.5, I did a 1/sqrt(avg_ZHVI) transformation. Considering a 0.05, or even a 0.1, threshold, none of the Homeless predictors show they are statistically significant. "
   ]
  },
  {
   "cell_type": "code",
   "execution_count": 32,
   "id": "b3e02d43-62b6-49e4-9089-2566178f233c",
   "metadata": {},
   "outputs": [
    {
     "name": "stdout",
     "output_type": "stream",
     "text": [
      "VIF threshold:  14.84398 \n"
     ]
    },
    {
     "data": {
      "text/html": [
       "<table class=\"dataframe\">\n",
       "<caption>A matrix: 6 × 3 of type dbl</caption>\n",
       "<thead>\n",
       "\t<tr><th></th><th scope=col>GVIF</th><th scope=col>Df</th><th scope=col>GVIF^(1/(2*Df))</th></tr>\n",
       "</thead>\n",
       "<tbody>\n",
       "\t<tr><th scope=row>RegionName</th><td>3.394629e+03</td><td>49</td><td>   1.086497</td></tr>\n",
       "\t<tr><th scope=row>date</th><td>1.919009e+00</td><td>12</td><td>   1.027531</td></tr>\n",
       "\t<tr><th scope=row>Unsheltered.Homeless</th><td>4.595101e+05</td><td> 1</td><td> 677.871724</td></tr>\n",
       "\t<tr><th scope=row>Overall.Homeless</th><td>1.388634e+06</td><td> 1</td><td>1178.403213</td></tr>\n",
       "\t<tr><th scope=row>Sheltered.ES.Homeless</th><td>3.354075e+05</td><td> 1</td><td> 579.143797</td></tr>\n",
       "\t<tr><th scope=row>Sheltered.TH.Homeless</th><td>3.010716e+04</td><td> 1</td><td> 173.514149</td></tr>\n",
       "</tbody>\n",
       "</table>\n"
      ],
      "text/latex": [
       "A matrix: 6 × 3 of type dbl\n",
       "\\begin{tabular}{r|lll}\n",
       "  & GVIF & Df & GVIF\\textasciicircum{}(1/(2*Df))\\\\\n",
       "\\hline\n",
       "\tRegionName & 3.394629e+03 & 49 &    1.086497\\\\\n",
       "\tdate & 1.919009e+00 & 12 &    1.027531\\\\\n",
       "\tUnsheltered.Homeless & 4.595101e+05 &  1 &  677.871724\\\\\n",
       "\tOverall.Homeless & 1.388634e+06 &  1 & 1178.403213\\\\\n",
       "\tSheltered.ES.Homeless & 3.354075e+05 &  1 &  579.143797\\\\\n",
       "\tSheltered.TH.Homeless & 3.010716e+04 &  1 &  173.514149\\\\\n",
       "\\end{tabular}\n"
      ],
      "text/markdown": [
       "\n",
       "A matrix: 6 × 3 of type dbl\n",
       "\n",
       "| <!--/--> | GVIF | Df | GVIF^(1/(2*Df)) |\n",
       "|---|---|---|---|\n",
       "| RegionName | 3.394629e+03 | 49 |    1.086497 |\n",
       "| date | 1.919009e+00 | 12 |    1.027531 |\n",
       "| Unsheltered.Homeless | 4.595101e+05 |  1 |  677.871724 |\n",
       "| Overall.Homeless | 1.388634e+06 |  1 | 1178.403213 |\n",
       "| Sheltered.ES.Homeless | 3.354075e+05 |  1 |  579.143797 |\n",
       "| Sheltered.TH.Homeless | 3.010716e+04 |  1 |  173.514149 |\n",
       "\n"
      ],
      "text/plain": [
       "                      GVIF         Df GVIF^(1/(2*Df))\n",
       "RegionName            3.394629e+03 49    1.086497    \n",
       "date                  1.919009e+00 12    1.027531    \n",
       "Unsheltered.Homeless  4.595101e+05  1  677.871724    \n",
       "Overall.Homeless      1.388634e+06  1 1178.403213    \n",
       "Sheltered.ES.Homeless 3.354075e+05  1  579.143797    \n",
       "Sheltered.TH.Homeless 3.010716e+04  1  173.514149    "
      ]
     },
     "metadata": {},
     "output_type": "display_data"
    }
   ],
   "source": [
    "# checking for multicollinearity\n",
    "threshold =  1/(1 - summary(model5)$r.squared)\n",
    "cat('VIF threshold: ', max(10, threshold), '\\n')\n",
    "vif(model5)"
   ]
  },
  {
   "cell_type": "code",
   "execution_count": 34,
   "id": "42e41fd3-6291-4c3e-a119-cc9b0f85480f",
   "metadata": {},
   "outputs": [
    {
     "name": "stdout",
     "output_type": "stream",
     "text": [
      "VIF threshold:  10 \n"
     ]
    },
    {
     "data": {
      "text/html": [
       "<table class=\"dataframe\">\n",
       "<caption>A matrix: 5 × 3 of type dbl</caption>\n",
       "<thead>\n",
       "\t<tr><th></th><th scope=col>GVIF</th><th scope=col>Df</th><th scope=col>GVIF^(1/(2*Df))</th></tr>\n",
       "</thead>\n",
       "<tbody>\n",
       "\t<tr><th scope=row>RegionName</th><td>2338.336978</td><td>49</td><td>1.082372</td></tr>\n",
       "\t<tr><th scope=row>Overall.Homeless</th><td>  26.596119</td><td> 1</td><td>5.157143</td></tr>\n",
       "\t<tr><th scope=row>Sheltered.ES.Homeless</th><td>  42.610037</td><td> 1</td><td>6.527636</td></tr>\n",
       "\t<tr><th scope=row>Sheltered.TH.Homeless</th><td>   8.605115</td><td> 1</td><td>2.933448</td></tr>\n",
       "\t<tr><th scope=row>Sheltered.SH.Homeless</th><td>   8.198219</td><td> 1</td><td>2.863253</td></tr>\n",
       "</tbody>\n",
       "</table>\n"
      ],
      "text/latex": [
       "A matrix: 5 × 3 of type dbl\n",
       "\\begin{tabular}{r|lll}\n",
       "  & GVIF & Df & GVIF\\textasciicircum{}(1/(2*Df))\\\\\n",
       "\\hline\n",
       "\tRegionName & 2338.336978 & 49 & 1.082372\\\\\n",
       "\tOverall.Homeless &   26.596119 &  1 & 5.157143\\\\\n",
       "\tSheltered.ES.Homeless &   42.610037 &  1 & 6.527636\\\\\n",
       "\tSheltered.TH.Homeless &    8.605115 &  1 & 2.933448\\\\\n",
       "\tSheltered.SH.Homeless &    8.198219 &  1 & 2.863253\\\\\n",
       "\\end{tabular}\n"
      ],
      "text/markdown": [
       "\n",
       "A matrix: 5 × 3 of type dbl\n",
       "\n",
       "| <!--/--> | GVIF | Df | GVIF^(1/(2*Df)) |\n",
       "|---|---|---|---|\n",
       "| RegionName | 2338.336978 | 49 | 1.082372 |\n",
       "| Overall.Homeless |   26.596119 |  1 | 5.157143 |\n",
       "| Sheltered.ES.Homeless |   42.610037 |  1 | 6.527636 |\n",
       "| Sheltered.TH.Homeless |    8.605115 |  1 | 2.933448 |\n",
       "| Sheltered.SH.Homeless |    8.198219 |  1 | 2.863253 |\n",
       "\n"
      ],
      "text/plain": [
       "                      GVIF        Df GVIF^(1/(2*Df))\n",
       "RegionName            2338.336978 49 1.082372       \n",
       "Overall.Homeless        26.596119  1 5.157143       \n",
       "Sheltered.ES.Homeless   42.610037  1 6.527636       \n",
       "Sheltered.TH.Homeless    8.605115  1 2.933448       \n",
       "Sheltered.SH.Homeless    8.198219  1 2.863253       "
      ]
     },
     "metadata": {},
     "output_type": "display_data"
    }
   ],
   "source": [
    "# checking for multicollinearity\n",
    "cat('VIF threshold: ', max(10, 1/(1 - summary(model3)$r.squared)), '\\n')\n",
    "vif(model3)"
   ]
  },
  {
   "cell_type": "markdown",
   "id": "18f4bba5-1cb9-498a-97e5-04e6ad08764b",
   "metadata": {},
   "source": [
    "For linearity, constant variance and normality assumption all models are rather similar. Model 2/3 does not have any multicollinearity, obviously this is once we take out Unsheltered.Homeless. While Model 4/5, has multicollinearity in all Homeless predictors. "
   ]
  },
  {
   "cell_type": "code",
   "execution_count": 37,
   "id": "656bed60-8fbc-4b47-b03e-a323f0dc16bc",
   "metadata": {},
   "outputs": [
    {
     "name": "stdout",
     "output_type": "stream",
     "text": [
      "[1] \"Cook's Distance threshold:  0.00615384615384615\"\n",
      "[1] \"Number of Outliers:  44\"\n"
     ]
    },
    {
     "data": {
      "image/png": "[encoded data removed]",
      "text/plain": [
       "Plot with title \"Cook's Distance\""
      ]
     },
     "metadata": {
      "image/png": {
       "height": 420,
       "width": 420
      }
     },
     "output_type": "display_data"
    }
   ],
   "source": [
    "# checking for outliers\n",
    "model_copy_cook <- cooks.distance(model5)\n",
    "cook_n <- nrow(model5$model)\n",
    "cook_threshold <- 4 / cook_n\n",
    "\n",
    "plot(model_copy_cook, main = \"Cook's Distance\", ylab = \"Cook's Distance\", xlab = \"Observation\")\n",
    "abline(h = cook_threshold, col = 'red', lty = 2)\n",
    "\n",
    "print(paste(\"Cook's Distance threshold: \", cook_threshold))\n",
    "\n",
    "outliers <- which(model_copy_cook > cook_threshold)\n",
    "\n",
    "print(paste('Number of Outliers: ', length(outliers)))"
   ]
  },
  {
   "cell_type": "markdown",
   "id": "bc4212e6-8c1f-484a-987e-5e0257774b23",
   "metadata": {},
   "source": [
    "between model 3 and model 5 there is only one more outlier seen in Model 4."
   ]
  },
  {
   "cell_type": "code",
   "execution_count": 141,
   "id": "b6ea41f1-80ee-4a05-8a55-a37a51696d23",
   "metadata": {},
   "outputs": [
    {
     "name": "stdout",
     "output_type": "stream",
     "text": [
      "\u001b[90m# A tibble: 5 × 9\u001b[39m\n",
      "  RegionName date  avg_ZHVI Overall.Homeless Sheltered.ES.Homeless\n",
      "  \u001b[3m\u001b[90m<chr>\u001b[39m\u001b[23m      \u001b[3m\u001b[90m<chr>\u001b[39m\u001b[23m    \u001b[3m\u001b[90m<dbl>\u001b[39m\u001b[23m            \u001b[3m\u001b[90m<dbl>\u001b[39m\u001b[23m                 \u001b[3m\u001b[90m<dbl>\u001b[39m\u001b[23m\n",
      "\u001b[90m1\u001b[39m CA         2022   \u001b[4m7\u001b[24m\u001b[4m4\u001b[24m\u001b[4m5\u001b[24m788.           \u001b[4m1\u001b[24m\u001b[4m7\u001b[24m\u001b[4m1\u001b[24m521                 \u001b[4m4\u001b[24m\u001b[4m4\u001b[24m553\n",
      "\u001b[90m2\u001b[39m HI         2022   \u001b[4m8\u001b[24m\u001b[4m2\u001b[24m\u001b[4m3\u001b[24m079.             \u001b[4m5\u001b[24m967                  \u001b[4m1\u001b[24m484\n",
      "\u001b[90m3\u001b[39m UT         2022   \u001b[4m5\u001b[24m\u001b[4m2\u001b[24m\u001b[4m3\u001b[24m455.             \u001b[4m3\u001b[24m557                  \u001b[4m2\u001b[24m219\n",
      "\u001b[90m4\u001b[39m ID         2022   \u001b[4m4\u001b[24m\u001b[4m7\u001b[24m\u001b[4m0\u001b[24m276.             \u001b[4m1\u001b[24m998                   811\n",
      "\u001b[90m5\u001b[39m CA         2010   \u001b[4m3\u001b[24m\u001b[4m0\u001b[24m\u001b[4m7\u001b[24m285.           \u001b[4m1\u001b[24m\u001b[4m2\u001b[24m\u001b[4m3\u001b[24m480                 \u001b[4m2\u001b[24m\u001b[4m3\u001b[24m701\n",
      "\u001b[90m# ℹ 4 more variables: Sheltered.TH.Homeless <dbl>,\u001b[39m\n",
      "\u001b[90m#   Sheltered.Total.Homeless <dbl>, Unsheltered.Homeless <dbl>,\u001b[39m\n",
      "\u001b[90m#   Sheltered.SH.Homeless <dbl>\u001b[39m\n"
     ]
    }
   ],
   "source": [
    "# print out the top 5 outliers\n",
    "top_outliers <- order(model_copy_cook[outliers], decreasing = TRUE)[1:5]\n",
    "outliers_rows <- train_new[outliers[top_outliers], ]\n",
    "print(outliers_rows)"
   ]
  },
  {
   "cell_type": "code",
   "execution_count": 76,
   "id": "7d3359ce-e2c7-419d-93bf-2702fb94b59d",
   "metadata": {},
   "outputs": [
    {
     "name": "stdout",
     "output_type": "stream",
     "text": [
      "Adjusted R Squared model 1:  0.8032681 \n",
      "Adjusted R Squared model 2:  0.8032681 \n",
      "Adjusted R Squared model 3:  0.9251346 \n",
      "Adjusted R Squared model 4:  0.9251346 \n"
     ]
    }
   ],
   "source": [
    "# prediction\n",
    "prediction1 <- predict(model2, newdata = test_new)\n",
    "comparison1 <- cbind(prediction1, test_new$avg_ZHVI)\n",
    "cat('Adjusted R Squared model 2: ', summary(model2)$adj.r.squared, '\\n')\n",
    "\n",
    "prediction2 <- predict(model3, newdata = test_new)\n",
    "comparison2 <- cbind(prediction2, test_new$avg_ZHVI)\n",
    "cat('Adjusted R Squared model 3: ', summary(model3)$adj.r.squared, '\\n')\n",
    "\n",
    "cat('Adjusted R Squared model 4: ', summary(model4)$adj.r.squared, '\\n')\n",
    "cat('Adjusted R Squared model 5: ', summary(model5)$adj.r.squared, '\\n')"
   ]
  },
  {
   "cell_type": "code",
   "execution_count": 61,
   "id": "74eb47dc-0717-45dc-a5dc-d58b6bdd0862",
   "metadata": {},
   "outputs": [
    {
     "data": {
      "text/plain": [
       "68 x 1 sparse Matrix of class \"dgCMatrix\"\n",
       "                                 s1\n",
       "(Intercept)            2.228602e+05\n",
       "RegionNameAL          -9.312381e+04\n",
       "RegionNameAR          -1.041242e+05\n",
       "RegionNameAZ           2.347545e+03\n",
       "RegionNameCA           1.952423e+05\n",
       "RegionNameCO           9.826397e+04\n",
       "RegionNameCT           1.290841e+04\n",
       "RegionNameDE           1.148546e+04\n",
       "RegionNameFL          -2.839251e+04\n",
       "RegionNameGA          -5.147633e+04\n",
       "RegionNameHI           3.100526e+05\n",
       "RegionNameIA          -9.476907e+04\n",
       "RegionNameID           4.658669e+03\n",
       "RegionNameIL          -5.642107e+04\n",
       "RegionNameIN          -9.933524e+04\n",
       "RegionNameKS          -1.011749e+05\n",
       "RegionNameKY          -1.092945e+05\n",
       "RegionNameLA          -7.648644e+04\n",
       "RegionNameMA           1.232881e+05\n",
       "RegionNameMD           4.566693e+04\n",
       "RegionNameME          -1.873421e+04\n",
       "RegionNameMI          -9.442230e+04\n",
       "RegionNameMN          -1.593768e+04\n",
       "RegionNameMO          -8.837196e+04\n",
       "RegionNameMS          -1.127572e+05\n",
       "RegionNameMT           7.447982e+03\n",
       "RegionNameNC          -4.562574e+04\n",
       "RegionNameND          -3.887458e+04\n",
       "RegionNameNE          -7.915827e+04\n",
       "RegionNameNH           2.049431e+04\n",
       "RegionNameNJ           8.794333e+04\n",
       "RegionNameNM          -5.288468e+04\n",
       "RegionNameNV           2.010176e+03\n",
       "RegionNameNY          -1.201438e+04\n",
       "RegionNameOH          -1.071335e+05\n",
       "RegionNameOK          -1.160104e+05\n",
       "RegionNameOR           6.713801e+04\n",
       "RegionNamePA          -7.620291e+04\n",
       "RegionNameRI           2.518333e+04\n",
       "RegionNameSC          -6.416113e+04\n",
       "RegionNameSD          -5.387247e+04\n",
       "RegionNameTN          -5.966788e+04\n",
       "RegionNameTX          -5.702537e+04\n",
       "RegionNameUT           5.368333e+04\n",
       "RegionNameVA           1.051552e+04\n",
       "RegionNameVT           1.835540e+03\n",
       "RegionNameWA           1.144080e+05\n",
       "RegionNameWI          -5.859002e+04\n",
       "RegionNameWV          -1.319197e+05\n",
       "RegionNameWY          -8.355650e+03\n",
       "date2011              -2.474597e+04\n",
       "date2012              -2.696507e+04\n",
       "date2013              -1.881921e+04\n",
       "date2014              -1.067835e+04\n",
       "date2015              -3.299823e+03\n",
       "date2016               6.208052e+03\n",
       "date2017               1.440186e+04\n",
       "date2018               2.306817e+04\n",
       "date2019               3.220732e+04\n",
       "date2020               4.615007e+04\n",
       "date2021               8.664273e+04\n",
       "date2022               1.215116e+05\n",
       "date2023               1.255299e+05\n",
       "Unsheltered.Homeless   5.650908e-01\n",
       "Overall.Homeless       3.490288e-01\n",
       "Sheltered.ES.Homeless  1.240315e+00\n",
       "Sheltered.SH.Homeless  1.251472e+02\n",
       "Sheltered.TH.Homeless -7.454040e+00"
      ]
     },
     "metadata": {},
     "output_type": "display_data"
    }
   ],
   "source": [
    "# Ridge Regression with everything\n",
    "x <- model.matrix(avg_ZHVI ~ RegionName + date + Unsheltered.Homeless + Overall.Homeless + Sheltered.ES.Homeless + Sheltered.SH.Homeless + Sheltered.TH.Homeless, data = df)[, -1]\n",
    "y <- df$avg_ZHVI\n",
    "\n",
    "ridge <- cv.glmnet(x, y, alpha = 0, nfolds = 10)\n",
    "lambda <- ridge$lambda.min\n",
    "\n",
    "ridge_model <- glmnet(x, y, alpha = 0, nlambda = 100)\n",
    "coef(ridge_model, lambda)"
   ]
  },
  {
   "cell_type": "code",
   "execution_count": 63,
   "id": "d8b0db9d-092b-483e-b244-5780818a1193",
   "metadata": {},
   "outputs": [
    {
     "data": {
      "image/png": "[encoded data removed]",
      "text/plain": [
       "plot without title"
      ]
     },
     "metadata": {
      "image/png": {
       "height": 420,
       "width": 420
      }
     },
     "output_type": "display_data"
    }
   ],
   "source": [
    "plot(ridge_model, xvar = 'lambda', label = TRUE, lwd = 2)\n",
    "abline(v = log(lambda), col = 'black', lty = 2, lwd = 2)"
   ]
  },
  {
   "cell_type": "code",
   "execution_count": 65,
   "id": "57208d17-ada8-4e36-a94b-2eeb0168a6ed",
   "metadata": {},
   "outputs": [
    {
     "data": {
      "text/plain": [
       "6 x 1 sparse Matrix of class \"dgCMatrix\"\n",
       "                                 s1\n",
       "(Intercept)            2.282548e+05\n",
       "Unsheltered.Homeless   2.993449e+00\n",
       "Overall.Homeless       1.156315e+00\n",
       "Sheltered.ES.Homeless  1.825434e+00\n",
       "Sheltered.SH.Homeless -1.333477e-01\n",
       "Sheltered.TH.Homeless -1.387107e+01"
      ]
     },
     "metadata": {},
     "output_type": "display_data"
    }
   ],
   "source": [
    "# Ridge Regression with just homelessness\n",
    "x2 <- model.matrix(avg_ZHVI ~ Unsheltered.Homeless + Overall.Homeless + Sheltered.ES.Homeless + Sheltered.SH.Homeless + Sheltered.TH.Homeless, data = df)[, -1]\n",
    "y2 <- df$avg_ZHVI\n",
    "\n",
    "ridge2 <- cv.glmnet(x2, y2, alpha = 0, nfolds = 10)\n",
    "lambda2 <- ridge2$lambda.min\n",
    "\n",
    "ridge_model2 <- glmnet(x2, y2, alpha = 0, nlambda = 100)\n",
    "coef(ridge_model2, lambda2)"
   ]
  },
  {
   "cell_type": "code",
   "execution_count": 67,
   "id": "4cac8cb6-c8ee-42d9-a7c7-d2f2d36b8ba8",
   "metadata": {},
   "outputs": [
    {
     "data": {
      "image/png": "[encoded data removed]",
      "text/plain": [
       "plot without title"
      ]
     },
     "metadata": {
      "image/png": {
       "height": 420,
       "width": 420
      }
     },
     "output_type": "display_data"
    }
   ],
   "source": [
    "plot(ridge_model2, xvar = 'lambda', label = TRUE, lwd = 2)\n",
    "abline(v = log(lambda2), col = 'black', lty = 2, lwd = 2)"
   ]
  },
  {
   "cell_type": "code",
   "execution_count": null,
   "id": "94f12b80-8f50-4e36-abd5-c9a6e533a6bd",
   "metadata": {},
   "outputs": [],
   "source": []
  }
 ],
 "metadata": {
  "kernelspec": {
   "display_name": "R",
   "language": "R",
   "name": "ir"
  },
  "language_info": {
   "codemirror_mode": "r",
   "file_extension": ".r",
   "mimetype": "text/x-r-source",
   "name": "R",
   "pygments_lexer": "r",
   "version": "4.2.0"
  }
 },
 "nbformat": 4,
 "nbformat_minor": 5
}

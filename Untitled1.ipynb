{
 "cells": [
  {
   "cell_type": "code",
   "execution_count": 12,
   "id": "f88da906",
   "metadata": {},
   "outputs": [
    {
     "name": "stderr",
     "output_type": "stream",
     "text": [
      "Warning message:\n",
      "\"package 'httr' is in use and will not be installed\"\n"
     ]
    },
    {
     "name": "stdout",
     "output_type": "stream",
     "text": [
      "package 'readr' successfully unpacked and MD5 sums checked\n"
     ]
    },
    {
     "name": "stderr",
     "output_type": "stream",
     "text": [
      "Warning message:\n",
      "\"cannot remove prior installation of package 'readr'\"\n",
      "Warning message in file.copy(savedcopy, lib, recursive = TRUE):\n",
      "\"problem copying C:\\R\\R-4.2.0\\library\\00LOCK\\readr\\libs\\x64\\readr.dll to C:\\R\\R-4.2.0\\library\\readr\\libs\\x64\\readr.dll: Permission denied\"\n",
      "Warning message:\n",
      "\"restored 'readr'\"\n"
     ]
    },
    {
     "name": "stdout",
     "output_type": "stream",
     "text": [
      "\n",
      "The downloaded binary packages are in\n",
      "\tC:\\Users\\terry\\AppData\\Local\\Temp\\RtmpAN21tS\\downloaded_packages\n"
     ]
    },
    {
     "name": "stderr",
     "output_type": "stream",
     "text": [
      "Warning message:\n",
      "\"package 'readr' was built under R version 4.2.2\"\n"
     ]
    },
    {
     "data": {
      "text/plain": [
       "Response [https://www.dropbox.com/scl/fi/tdy9dj6srnyus1rsu3ith/everything.csv?rlkey=e81larn9mjjc3gi244f9gc8jg&st=ww21gkmc&dl=1]\n",
       "  Date: 2025-04-26 16:59\n",
       "  Status: 200\n",
       "  Content-Type: text/html; charset=utf-8\n",
       "  Size: 162 kB\n",
       "<ON DISK>  C:\\Users\\terry\\AppData\\Local\\Temp\\RtmpAN21tS\\file5f2c74c943f8.csvNULL"
      ]
     },
     "metadata": {},
     "output_type": "display_data"
    },
    {
     "name": "stderr",
     "output_type": "stream",
     "text": [
      "Warning message:\n",
      "\"\u001b[1m\u001b[22mOne or more parsing issues, call `problems()` on your data frame for details, e.g.:\n",
      "  dat <- vroom(...)\n",
      "  problems(dat)\"\n",
      "\u001b[1mRows: \u001b[22m\u001b[34m453\u001b[39m \u001b[1mColumns: \u001b[22m\u001b[34m1\u001b[39m\n",
      "\u001b[36m──\u001b[39m \u001b[1mColumn specification\u001b[22m \u001b[36m────────────────────────────────────────────────────────────────────────────────────────────────\u001b[39m\n",
      "\u001b[1mDelimiter:\u001b[22m \",\"\n",
      "\u001b[31mchr\u001b[39m (1): <!DOCTYPE html>\n",
      "\n",
      "\u001b[36mℹ\u001b[39m Use `spec()` to retrieve the full column specification for this data.\n",
      "\u001b[36mℹ\u001b[39m Specify the column types or set `show_col_types = FALSE` to quiet this message.\n"
     ]
    },
    {
     "data": {
      "text/html": [
       "<table class=\"dataframe\">\n",
       "<caption>A tibble: 6 × 1</caption>\n",
       "<thead>\n",
       "\t<tr><th scope=col>&lt;!DOCTYPE html&gt;</th></tr>\n",
       "\t<tr><th scope=col>&lt;chr&gt;</th></tr>\n",
       "</thead>\n",
       "<tbody>\n",
       "\t<tr><td><span style=white-space:pre-wrap>&lt;html class=\"maestro global-header\" xmlns=\"http://www.w3.org/1999/xhtml\" lang=\"en\"&gt;                       </span></td></tr>\n",
       "\t<tr><td><span style=white-space:pre-wrap>&lt;head&gt;&lt;meta charset=\"utf-8\" /&gt;                                                                            </span></td></tr>\n",
       "\t<tr><td><span style=white-space:pre-wrap>&lt;meta content=\"noindex, nofollow, noimageindex\" name=\"robots\" /&gt;                                          </span></td></tr>\n",
       "\t<tr><td><span style=white-space:pre-wrap>&lt;meta content=\"width=device-width, initial-scale=1\" name=\"viewport\" /&gt;                                    </span></td></tr>\n",
       "\t<tr><td>&lt;script nonce=\"UbMzHTK9c/F9Yh0MwzVLBku0Ei4=\"&gt;window.EDISON_METRICS_JS_EXECUTION_START = performance.now();</td></tr>\n",
       "\t<tr><td><span style=white-space:pre-wrap>&lt;/script&gt;&lt;title&gt;Dropbox&lt;/title&gt;                                                                           </span></td></tr>\n",
       "</tbody>\n",
       "</table>\n"
      ],
      "text/latex": [
       "A tibble: 6 × 1\n",
       "\\begin{tabular}{l}\n",
       " <!DOCTYPE html>\\\\\n",
       " <chr>\\\\\n",
       "\\hline\n",
       "\t <html class=\"maestro global-header\" xmlns=\"http://www.w3.org/1999/xhtml\" lang=\"en\">                       \\\\\n",
       "\t <head><meta charset=\"utf-8\" />                                                                            \\\\\n",
       "\t <meta content=\"noindex, nofollow, noimageindex\" name=\"robots\" />                                          \\\\\n",
       "\t <meta content=\"width=device-width, initial-scale=1\" name=\"viewport\" />                                    \\\\\n",
       "\t <script nonce=\"UbMzHTK9c/F9Yh0MwzVLBku0Ei4=\">window.EDISON\\_METRICS\\_JS\\_EXECUTION\\_START = performance.now();\\\\\n",
       "\t </script><title>Dropbox</title>                                                                           \\\\\n",
       "\\end{tabular}\n"
      ],
      "text/markdown": [
       "\n",
       "A tibble: 6 × 1\n",
       "\n",
       "| &lt;!DOCTYPE html&gt; &lt;chr&gt; |\n",
       "|---|\n",
       "| &lt;html class=\"maestro global-header\" xmlns=\"http://www.w3.org/1999/xhtml\" lang=\"en\"&gt;                        |\n",
       "| &lt;head&gt;&lt;meta charset=\"utf-8\" /&gt;                                                                             |\n",
       "| &lt;meta content=\"noindex, nofollow, noimageindex\" name=\"robots\" /&gt;                                           |\n",
       "| &lt;meta content=\"width=device-width, initial-scale=1\" name=\"viewport\" /&gt;                                     |\n",
       "| &lt;script nonce=\"UbMzHTK9c/F9Yh0MwzVLBku0Ei4=\"&gt;window.EDISON_METRICS_JS_EXECUTION_START = performance.now(); |\n",
       "| &lt;/script&gt;&lt;title&gt;Dropbox&lt;/title&gt;                                                                            |\n",
       "\n"
      ],
      "text/plain": [
       "  <!DOCTYPE html>                                                                                           \n",
       "1 <html class=\"maestro global-header\" xmlns=\"http://www.w3.org/1999/xhtml\" lang=\"en\">                       \n",
       "2 <head><meta charset=\"utf-8\" />                                                                            \n",
       "3 <meta content=\"noindex, nofollow, noimageindex\" name=\"robots\" />                                          \n",
       "4 <meta content=\"width=device-width, initial-scale=1\" name=\"viewport\" />                                    \n",
       "5 <script nonce=\"UbMzHTK9c/F9Yh0MwzVLBku0Ei4=\">window.EDISON_METRICS_JS_EXECUTION_START = performance.now();\n",
       "6 </script><title>Dropbox</title>                                                                           "
      ]
     },
     "metadata": {},
     "output_type": "display_data"
    }
   ],
   "source": [
    "dropbox_url = \"https://www.dropbox.com/scl/fi/tdy9dj6srnyus1rsu3ith/everything.csv?rlkey=e81larn9mjjc3gi244f9gc8jg&st=ww21gkmc&dl=1\"\n",
    "\n",
    "data <- read.csv(dropbox_url, header = TRUE)\n",
    "head(data)\n"
   ]
  }
 ],
 "metadata": {
  "kernelspec": {
   "display_name": "R",
   "language": "R",
   "name": "ir"
  },
  "language_info": {
   "codemirror_mode": "r",
   "file_extension": ".r",
   "mimetype": "text/x-r-source",
   "name": "R",
   "pygments_lexer": "r",
   "version": "4.2.0"
  }
 },
 "nbformat": 4,
 "nbformat_minor": 5
}

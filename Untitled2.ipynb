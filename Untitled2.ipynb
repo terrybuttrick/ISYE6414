{
 "cells": [
  {
   "cell_type": "code",
   "execution_count": null,
   "id": "18afced7",
   "metadata": {},
   "outputs": [],
   "source": [
    "dataHouse <- read.csv(\"everything.csv\", header=TRUE)\n",
    "dataHouse"
   ]
  }
 ],
 "metadata": {
  "kernelspec": {
   "display_name": "R",
   "language": "R",
   "name": "ir"
  },
  "language_info": {
   "codemirror_mode": "r",
   "file_extension": ".r",
   "mimetype": "text/x-r-source",
   "name": "R",
   "pygments_lexer": "r",
   "version": "4.2.0"
  }
 },
 "nbformat": 4,
 "nbformat_minor": 5
}

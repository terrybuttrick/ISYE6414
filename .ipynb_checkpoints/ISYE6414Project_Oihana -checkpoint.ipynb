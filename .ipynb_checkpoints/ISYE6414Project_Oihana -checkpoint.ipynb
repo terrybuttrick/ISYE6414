{
 "cells": [
  {
   "cell_type": "code",
   "execution_count": 1,
   "id": "f18696bb-61ac-4ed2-a33e-21e3618b002b",
   "metadata": {},
   "outputs": [
    {
     "name": "stderr",
     "output_type": "stream",
     "text": [
      "Warning message:\n",
      "\"package 'tidyverse' was built under R version 4.4.3\"\n",
      "── \u001b[1mAttaching core tidyverse packages\u001b[22m ──────────────────────── tidyverse 2.0.0 ──\n",
      "\u001b[32m✔\u001b[39m \u001b[34mdplyr    \u001b[39m 1.1.4     \u001b[32m✔\u001b[39m \u001b[34mreadr    \u001b[39m 2.1.5\n",
      "\u001b[32m✔\u001b[39m \u001b[34mforcats  \u001b[39m 1.0.0     \u001b[32m✔\u001b[39m \u001b[34mstringr  \u001b[39m 1.5.1\n",
      "\u001b[32m✔\u001b[39m \u001b[34mggplot2  \u001b[39m 3.5.1     \u001b[32m✔\u001b[39m \u001b[34mtibble   \u001b[39m 3.2.1\n",
      "\u001b[32m✔\u001b[39m \u001b[34mlubridate\u001b[39m 1.9.3     \u001b[32m✔\u001b[39m \u001b[34mtidyr    \u001b[39m 1.3.1\n",
      "\u001b[32m✔\u001b[39m \u001b[34mpurrr    \u001b[39m 1.0.2     \n",
      "── \u001b[1mConflicts\u001b[22m ────────────────────────────────────────── tidyverse_conflicts() ──\n",
      "\u001b[31m✖\u001b[39m \u001b[34mdplyr\u001b[39m::\u001b[32mfilter()\u001b[39m masks \u001b[34mstats\u001b[39m::filter()\n",
      "\u001b[31m✖\u001b[39m \u001b[34mdplyr\u001b[39m::\u001b[32mlag()\u001b[39m    masks \u001b[34mstats\u001b[39m::lag()\n",
      "\u001b[36mℹ\u001b[39m Use the conflicted package (\u001b[3m\u001b[34m<http://conflicted.r-lib.org/>\u001b[39m\u001b[23m) to force all conflicts to become errors\n",
      "Warning message:\n",
      "\"package 'car' was built under R version 4.4.2\"\n",
      "Loading required package: carData\n",
      "\n",
      "Warning message:\n",
      "\"package 'carData' was built under R version 4.4.2\"\n",
      "\n",
      "Attaching package: 'car'\n",
      "\n",
      "\n",
      "The following object is masked from 'package:dplyr':\n",
      "\n",
      "    recode\n",
      "\n",
      "\n",
      "The following object is masked from 'package:purrr':\n",
      "\n",
      "    some\n",
      "\n",
      "\n"
     ]
    }
   ],
   "source": [
    "library(tidyverse)\n",
    "library(car)"
   ]
  },
  {
   "cell_type": "code",
   "execution_count": 3,
   "id": "3613af16-2b0f-42cd-adb3-aee68686c482",
   "metadata": {},
   "outputs": [],
   "source": [
    "# read data\n",
    "data = read.csv('everything.csv', header = TRUE, na.strings = '')\n",
    "data$date <- as.Date(data$date)\n",
    "data$date <- format(data$date, format = '%Y')\n",
    "\n",
    "# grab my own columns (sh starts in 2010)\n",
    "df <- data %>%\n",
    "select(3, 5, 6, 25, 26, 27, 28, 29, 53)\n",
    "\n",
    "# remove na rows (not relevant for my part)\n",
    "df[df == 'NA'] <- NA\n",
    "df <- df[complete.cases(df), ]\n",
    "\n",
    "# make sure the numbers are numeric\n",
    "df$Overall.Homeless = as.numeric(df$Overall.Homeless)\n",
    "df$Sheltered.ES.Homeless = as.numeric(df$Sheltered.ES.Homeless)\n",
    "df$Sheltered.TH.Homeless = as.numeric(df$Sheltered.TH.Homeless)\n",
    "df$Sheltered.Total.Homeless = as.numeric(df$Sheltered.Total.Homeless)\n",
    "df$Unsheltered.Homeless = as.numeric(df$Unsheltered.Homeless)\n",
    "df$Sheltered.SH.Homeless = as.numeric(df$Sheltered.SH.Homeless)\n",
    "\n",
    "# fix ZHVI into yearly (avg of years value)\n",
    "# https://stackoverflow.com/questions/52221044/dplyrfirst-to-choose-first-non-na-value\n",
    "df <- df %>%\n",
    "group_by(RegionName, date) %>%\n",
    "summarize(\n",
    "    avg_ZHVI = mean(ZHVI, na.rm = TRUE),\n",
    "\n",
    "    Overall.Homeless = first(na.omit(Overall.Homeless)),\n",
    "    Sheltered.ES.Homeless = first(na.omit(Sheltered.ES.Homeless)),\n",
    "    Sheltered.TH.Homeless = first(na.omit(Sheltered.TH.Homeless)),\n",
    "    Sheltered.Total.Homeless = first(na.omit(Sheltered.Total.Homeless)),\n",
    "    Unsheltered.Homeless = first(na.omit(Unsheltered.Homeless)),\n",
    "    Sheltered.SH.Homeless = first(na.omit(Sheltered.SH.Homeless)),\n",
    "\n",
    "    .groups = 'drop'\n",
    "    )"
   ]
  },
  {
   "cell_type": "code",
   "execution_count": 41,
   "id": "e218f1d9-ae37-4e5e-bbec-a36ddbeacdcc",
   "metadata": {},
   "outputs": [
    {
     "data": {
      "text/html": [
       "<table class=\"dataframe\">\n",
       "<caption>A tibble: 10 × 7</caption>\n",
       "<thead>\n",
       "\t<tr><th scope=col>RegionName</th><th scope=col>date</th><th scope=col>avg_ZHVI</th><th scope=col>Overall.Homeless</th><th scope=col>Sheltered.Total.Homeless</th><th scope=col>Sheltered.Type</th><th scope=col>Sheltered.Type.Count</th></tr>\n",
       "\t<tr><th scope=col>&lt;chr&gt;</th><th scope=col>&lt;chr&gt;</th><th scope=col>&lt;dbl&gt;</th><th scope=col>&lt;dbl&gt;</th><th scope=col>&lt;dbl&gt;</th><th scope=col>&lt;fct&gt;</th><th scope=col>&lt;dbl&gt;</th></tr>\n",
       "</thead>\n",
       "<tbody>\n",
       "\t<tr><td>AK</td><td>2010</td><td>247493.2</td><td>1863</td><td>1671</td><td>ES</td><td>1013</td></tr>\n",
       "\t<tr><td>AK</td><td>2010</td><td>247493.2</td><td>1863</td><td>1671</td><td>TH</td><td> 658</td></tr>\n",
       "\t<tr><td>AK</td><td>2010</td><td>247493.2</td><td>1863</td><td>1671</td><td>SH</td><td>   0</td></tr>\n",
       "\t<tr><td>AK</td><td>2010</td><td>247493.2</td><td>1863</td><td>1671</td><td>US</td><td> 192</td></tr>\n",
       "\t<tr><td>AK</td><td>2011</td><td>244459.6</td><td>2128</td><td>1760</td><td>ES</td><td>1035</td></tr>\n",
       "\t<tr><td>AK</td><td>2011</td><td>244459.6</td><td>2128</td><td>1760</td><td>TH</td><td> 725</td></tr>\n",
       "\t<tr><td>AK</td><td>2011</td><td>244459.6</td><td>2128</td><td>1760</td><td>SH</td><td>   0</td></tr>\n",
       "\t<tr><td>AK</td><td>2011</td><td>244459.6</td><td>2128</td><td>1760</td><td>US</td><td> 368</td></tr>\n",
       "\t<tr><td>AK</td><td>2012</td><td>250074.8</td><td>1913</td><td>1716</td><td>ES</td><td>1139</td></tr>\n",
       "\t<tr><td>AK</td><td>2012</td><td>250074.8</td><td>1913</td><td>1716</td><td>TH</td><td> 577</td></tr>\n",
       "</tbody>\n",
       "</table>\n"
      ],
      "text/latex": [
       "A tibble: 10 × 7\n",
       "\\begin{tabular}{lllllll}\n",
       " RegionName & date & avg\\_ZHVI & Overall.Homeless & Sheltered.Total.Homeless & Sheltered.Type & Sheltered.Type.Count\\\\\n",
       " <chr> & <chr> & <dbl> & <dbl> & <dbl> & <fct> & <dbl>\\\\\n",
       "\\hline\n",
       "\t AK & 2010 & 247493.2 & 1863 & 1671 & ES & 1013\\\\\n",
       "\t AK & 2010 & 247493.2 & 1863 & 1671 & TH &  658\\\\\n",
       "\t AK & 2010 & 247493.2 & 1863 & 1671 & SH &    0\\\\\n",
       "\t AK & 2010 & 247493.2 & 1863 & 1671 & US &  192\\\\\n",
       "\t AK & 2011 & 244459.6 & 2128 & 1760 & ES & 1035\\\\\n",
       "\t AK & 2011 & 244459.6 & 2128 & 1760 & TH &  725\\\\\n",
       "\t AK & 2011 & 244459.6 & 2128 & 1760 & SH &    0\\\\\n",
       "\t AK & 2011 & 244459.6 & 2128 & 1760 & US &  368\\\\\n",
       "\t AK & 2012 & 250074.8 & 1913 & 1716 & ES & 1139\\\\\n",
       "\t AK & 2012 & 250074.8 & 1913 & 1716 & TH &  577\\\\\n",
       "\\end{tabular}\n"
      ],
      "text/markdown": [
       "\n",
       "A tibble: 10 × 7\n",
       "\n",
       "| RegionName &lt;chr&gt; | date &lt;chr&gt; | avg_ZHVI &lt;dbl&gt; | Overall.Homeless &lt;dbl&gt; | Sheltered.Total.Homeless &lt;dbl&gt; | Sheltered.Type &lt;fct&gt; | Sheltered.Type.Count &lt;dbl&gt; |\n",
       "|---|---|---|---|---|---|---|\n",
       "| AK | 2010 | 247493.2 | 1863 | 1671 | ES | 1013 |\n",
       "| AK | 2010 | 247493.2 | 1863 | 1671 | TH |  658 |\n",
       "| AK | 2010 | 247493.2 | 1863 | 1671 | SH |    0 |\n",
       "| AK | 2010 | 247493.2 | 1863 | 1671 | US |  192 |\n",
       "| AK | 2011 | 244459.6 | 2128 | 1760 | ES | 1035 |\n",
       "| AK | 2011 | 244459.6 | 2128 | 1760 | TH |  725 |\n",
       "| AK | 2011 | 244459.6 | 2128 | 1760 | SH |    0 |\n",
       "| AK | 2011 | 244459.6 | 2128 | 1760 | US |  368 |\n",
       "| AK | 2012 | 250074.8 | 1913 | 1716 | ES | 1139 |\n",
       "| AK | 2012 | 250074.8 | 1913 | 1716 | TH |  577 |\n",
       "\n"
      ],
      "text/plain": [
       "   RegionName date avg_ZHVI Overall.Homeless Sheltered.Total.Homeless\n",
       "1  AK         2010 247493.2 1863             1671                    \n",
       "2  AK         2010 247493.2 1863             1671                    \n",
       "3  AK         2010 247493.2 1863             1671                    \n",
       "4  AK         2010 247493.2 1863             1671                    \n",
       "5  AK         2011 244459.6 2128             1760                    \n",
       "6  AK         2011 244459.6 2128             1760                    \n",
       "7  AK         2011 244459.6 2128             1760                    \n",
       "8  AK         2011 244459.6 2128             1760                    \n",
       "9  AK         2012 250074.8 1913             1716                    \n",
       "10 AK         2012 250074.8 1913             1716                    \n",
       "   Sheltered.Type Sheltered.Type.Count\n",
       "1  ES             1013                \n",
       "2  TH              658                \n",
       "3  SH                0                \n",
       "4  US              192                \n",
       "5  ES             1035                \n",
       "6  TH              725                \n",
       "7  SH                0                \n",
       "8  US              368                \n",
       "9  ES             1139                \n",
       "10 TH              577                "
      ]
     },
     "metadata": {},
     "output_type": "display_data"
    }
   ],
   "source": [
    "# make sheltered into a categorical variable\n",
    "homeless_df <- df %>%\n",
    "pivot_longer(cols = c(Sheltered.ES.Homeless, Sheltered.TH.Homeless, Sheltered.SH.Homeless, Unsheltered.Homeless),\n",
    "             names_to = 'Sheltered.Type',\n",
    "             values_to = 'Sheltered.Type.Count')\n",
    "# https://stackoverflow.com/questions/66736264/how-do-i-rename-values-of-a-variable-in-r\n",
    "homeless_df$Sheltered.Type[homeless_df$Sheltered.Type == 'Sheltered.ES.Homeless'] = 'ES'\n",
    "homeless_df$Sheltered.Type[homeless_df$Sheltered.Type == 'Sheltered.TH.Homeless'] = 'TH'\n",
    "homeless_df$Sheltered.Type[homeless_df$Sheltered.Type == 'Sheltered.SH.Homeless'] = 'SH'\n",
    "homeless_df$Sheltered.Type[homeless_df$Sheltered.Type == 'Unsheltered.Homeless'] = 'US'\n",
    "\n",
    "homeless_df$Sheltered.Type <- as.factor(homeless_df$Sheltered.Type)\n",
    "head(homeless_df, 10)\n",
    "\n",
    "#divide into train and test data\n",
    "homeless_df$date = as.factor(homeless_df$date)\n",
    "\n",
    "trainData <- homeless_df[homeless_df$date != '2023', ]\n",
    "testData <- homeless_df[homeless_df$date == '2023', ]"
   ]
  },
  {
   "cell_type": "code",
   "execution_count": 43,
   "id": "895f2605-3737-43c0-892d-3ded61db5e76",
   "metadata": {},
   "outputs": [
    {
     "data": {
      "image/png": "[encoded data removed]",
      "text/plain": [
       "Plot with title \"Proportion of Homeless by Sheltered Type\""
      ]
     },
     "metadata": {
      "image/png": {
       "height": 420,
       "width": 420
      }
     },
     "output_type": "display_data"
    }
   ],
   "source": [
    "bar = xtabs(homeless_df$Sheltered.Type.Count ~ homeless_df$Sheltered.Type + homeless_df$date)\n",
    "proportion <- prop.table(bar, margin = 2)\n",
    "\n",
    "par(mar = c(6, 4, 4, 7))\n",
    "barplot(proportion,\n",
    "        main = 'Proportion of Homeless by Sheltered Type',\n",
    "        col = rainbow(nrow(proportion)),\n",
    "        legend.text = rownames(proportion),\n",
    "        args.legend = list(x = 'topright', inset = c(-0.25, 0), bty = 'n', cex = 0.8),\n",
    "        cex.names = 0.8,\n",
    "        cex.axis = 0.8,\n",
    "        las = 2)"
   ]
  },
  {
   "cell_type": "code",
   "execution_count": 8,
   "id": "a8186993-a322-4468-b23c-7fcd928e458d",
   "metadata": {},
   "outputs": [
    {
     "data": {
      "text/plain": [
       "\n",
       "Call:\n",
       "lm(formula = avg_ZHVI ~ Overall.Homeless, data = trainData)\n",
       "\n",
       "Residuals:\n",
       "    Min      1Q  Median      3Q     Max \n",
       "-167807  -71222  -20930   41849  608828 \n",
       "\n",
       "Coefficients:\n",
       "                  Estimate Std. Error t value Pr(>|t|)    \n",
       "(Intercept)      2.043e+05  2.520e+03   81.05   <2e-16 ***\n",
       "Overall.Homeless 1.674e+00  1.056e-01   15.85   <2e-16 ***\n",
       "---\n",
       "Signif. codes:  0 '***' 0.001 '**' 0.01 '*' 0.05 '.' 0.1 ' ' 1\n",
       "\n",
       "Residual standard error: 98490 on 1948 degrees of freedom\n",
       "Multiple R-squared:  0.1143,\tAdjusted R-squared:  0.1138 \n",
       "F-statistic: 251.3 on 1 and 1948 DF,  p-value: < 2.2e-16\n"
      ]
     },
     "metadata": {},
     "output_type": "display_data"
    }
   ],
   "source": [
    "model1 <- lm(avg_ZHVI ~ Overall.Homeless, data = trainData)\n",
    "summary(model1)"
   ]
  },
  {
   "cell_type": "code",
   "execution_count": 10,
   "id": "e672a576-908b-46df-a1a6-2cd207d9f4f7",
   "metadata": {},
   "outputs": [
    {
     "data": {
      "text/plain": [
       "\n",
       "Call:\n",
       "lm(formula = avg_ZHVI ~ Sheltered.Type, data = trainData)\n",
       "\n",
       "Residuals:\n",
       "    Min      1Q  Median      3Q     Max \n",
       "-130894  -75656  -22871   40528  600210 \n",
       "\n",
       "Coefficients:\n",
       "                                      Estimate Std. Error t value Pr(>|t|)    \n",
       "(Intercept)                          2.229e+05  4.106e+03   54.28   <2e-16 ***\n",
       "Sheltered.TypeSheltered.SH.Homeless -3.931e-11  5.807e+03    0.00        1    \n",
       "Sheltered.TypeSheltered.TH.Homeless -5.065e-11  5.807e+03    0.00        1    \n",
       "---\n",
       "Signif. codes:  0 '***' 0.001 '**' 0.01 '*' 0.05 '.' 0.1 ' ' 1\n",
       "\n",
       "Residual standard error: 104700 on 1947 degrees of freedom\n",
       "Multiple R-squared:  1.775e-31,\tAdjusted R-squared:  -0.001027 \n",
       "F-statistic: 1.728e-28 on 2 and 1947 DF,  p-value: 1\n"
      ]
     },
     "metadata": {},
     "output_type": "display_data"
    }
   ],
   "source": [
    "model2 <- lm(avg_ZHVI ~ Sheltered.Type, data = trainData)\n",
    "summary(model2)"
   ]
  },
  {
   "cell_type": "code",
   "execution_count": 12,
   "id": "7868a297-f9b0-4355-9979-dbeb70c817a5",
   "metadata": {},
   "outputs": [
    {
     "data": {
      "text/plain": [
       "\n",
       "Call:\n",
       "lm(formula = avg_ZHVI ~ RegionName + Unsheltered.Homeless + Sheltered.Type, \n",
       "    data = trainData)\n",
       "\n",
       "Residuals:\n",
       "    Min      1Q  Median      3Q     Max \n",
       "-176786  -31825  -10771   21065  298012 \n",
       "\n",
       "Coefficients:\n",
       "                                      Estimate Std. Error t value Pr(>|t|)    \n",
       "(Intercept)                          2.828e+05  9.654e+03  29.290  < 2e-16 ***\n",
       "RegionNameAL                        -1.368e+05  1.339e+04 -10.214  < 2e-16 ***\n",
       "RegionNameAR                        -1.464e+05  1.339e+04 -10.935  < 2e-16 ***\n",
       "RegionNameAZ                        -4.559e+04  1.344e+04  -3.393 0.000705 ***\n",
       "RegionNameCA                         2.066e+05  2.901e+04   7.122 1.51e-12 ***\n",
       "RegionNameCO                         4.881e+04  1.344e+04   3.632 0.000289 ***\n",
       "RegionNameCT                        -2.862e+04  1.339e+04  -2.138 0.032656 *  \n",
       "RegionNameDE                        -3.029e+04  1.339e+04  -2.263 0.023767 *  \n",
       "RegionNameFL                        -6.865e+04  1.485e+04  -4.623 4.03e-06 ***\n",
       "RegionNameGA                        -1.041e+05  1.354e+04  -7.687 2.39e-14 ***\n",
       "RegionNameHI                         2.660e+05  1.342e+04  19.829  < 2e-16 ***\n",
       "RegionNameIA                        -1.416e+05  1.339e+04 -10.576  < 2e-16 ***\n",
       "RegionNameID                        -4.451e+04  1.339e+04  -3.325 0.000901 ***\n",
       "RegionNameIL                        -1.068e+05  1.340e+04  -7.966 2.80e-15 ***\n",
       "RegionNameIN                        -1.442e+05  1.339e+04 -10.768  < 2e-16 ***\n",
       "RegionNameKS                        -1.459e+05  1.339e+04 -10.896  < 2e-16 ***\n",
       "RegionNameKY                        -1.562e+05  1.339e+04 -11.666  < 2e-16 ***\n",
       "RegionNameLA                        -1.147e+05  1.340e+04  -8.555  < 2e-16 ***\n",
       "RegionNameMA                         9.388e+04  1.339e+04   7.012 3.26e-12 ***\n",
       "RegionNameMD                         8.739e+03  1.340e+04   0.652 0.514347    \n",
       "RegionNameME                        -6.858e+04  1.339e+04  -5.123 3.31e-07 ***\n",
       "RegionNameMI                        -1.432e+05  1.339e+04 -10.689  < 2e-16 ***\n",
       "RegionNameMN                        -6.718e+04  1.339e+04  -5.018 5.72e-07 ***\n",
       "RegionNameMO                        -1.334e+05  1.339e+04  -9.963  < 2e-16 ***\n",
       "RegionNameMS                        -1.552e+05  1.339e+04 -11.591  < 2e-16 ***\n",
       "RegionNameMT                        -3.923e+04  1.339e+04  -2.930 0.003425 ** \n",
       "RegionNameNC                        -9.509e+04  1.341e+04  -7.089 1.89e-12 ***\n",
       "RegionNameND                        -7.654e+04  1.339e+04  -5.717 1.25e-08 ***\n",
       "RegionNameNE                        -1.255e+05  1.339e+04  -9.374  < 2e-16 ***\n",
       "RegionNameNH                        -2.564e+04  1.339e+04  -1.915 0.055625 .  \n",
       "RegionNameNJ                         4.447e+04  1.339e+04   3.321 0.000914 ***\n",
       "RegionNameNM                        -9.672e+04  1.339e+04  -7.224 7.27e-13 ***\n",
       "RegionNameNV                        -4.243e+04  1.344e+04  -3.157 0.001620 ** \n",
       "RegionNameNY                         2.427e+04  1.344e+04   1.805 0.071161 .  \n",
       "RegionNameOH                        -1.472e+05  1.339e+04 -10.991  < 2e-16 ***\n",
       "RegionNameOK                        -1.549e+05  1.339e+04 -11.567  < 2e-16 ***\n",
       "RegionNameOR                         2.344e+04  1.365e+04   1.716 0.086234 .  \n",
       "RegionNamePA                        -1.082e+05  1.339e+04  -8.079 1.15e-15 ***\n",
       "RegionNameRI                        -1.817e+04  1.339e+04  -1.358 0.174764    \n",
       "RegionNameSC                        -1.093e+05  1.340e+04  -8.158 6.12e-16 ***\n",
       "RegionNameSD                        -9.725e+04  1.339e+04  -7.264 5.46e-13 ***\n",
       "RegionNameTN                        -1.069e+05  1.342e+04  -7.964 2.85e-15 ***\n",
       "RegionNameTX                        -9.312e+04  1.386e+04  -6.720 2.39e-11 ***\n",
       "RegionNameUT                         7.991e+03  1.339e+04   0.597 0.550620    \n",
       "RegionNameVA                        -2.686e+04  1.339e+04  -2.006 0.044995 *  \n",
       "RegionNameVT                        -4.092e+04  1.339e+04  -3.056 0.002271 ** \n",
       "RegionNameWA                         5.854e+04  1.358e+04   4.310 1.72e-05 ***\n",
       "RegionNameWI                        -1.016e+05  1.339e+04  -7.588 5.05e-14 ***\n",
       "RegionNameWV                        -1.726e+05  1.339e+04 -12.891  < 2e-16 ***\n",
       "RegionNameWY                        -4.934e+04  1.339e+04  -3.686 0.000235 ***\n",
       "Unsheltered.Homeless                -3.598e-01  3.228e-01  -1.115 0.265089    \n",
       "Sheltered.TypeSheltered.SH.Homeless  2.388e-10  3.279e+03   0.000 1.000000    \n",
       "Sheltered.TypeSheltered.TH.Homeless -2.462e-10  3.279e+03   0.000 1.000000    \n",
       "---\n",
       "Signif. codes:  0 '***' 0.001 '**' 0.01 '*' 0.05 '.' 0.1 ' ' 1\n",
       "\n",
       "Residual standard error: 59120 on 1897 degrees of freedom\n",
       "Multiple R-squared:  0.6893,\tAdjusted R-squared:  0.6807 \n",
       "F-statistic: 80.92 on 52 and 1897 DF,  p-value: < 2.2e-16\n"
      ]
     },
     "metadata": {},
     "output_type": "display_data"
    }
   ],
   "source": [
    "trainData <- droplevels(trainData)\n",
    "model5 <- lm(avg_ZHVI ~ RegionName + Unsheltered.Homeless + Sheltered.Type, data = trainData)\n",
    "summary(model5)"
   ]
  },
  {
   "cell_type": "code",
   "execution_count": 14,
   "id": "82e58005-e9b3-4923-8e25-5eb5f313bd31",
   "metadata": {},
   "outputs": [
    {
     "data": {
      "image/png": "[encoded data removed]",
      "text/plain": [
       "plot without title"
      ]
     },
     "metadata": {
      "image/png": {
       "height": 420,
       "width": 420
      }
     },
     "output_type": "display_data"
    }
   ],
   "source": [
    "# linearity assumption\n",
    "resids <- rstandard(model5)\n",
    "par(mfrow = c(1, 2))\n",
    "plot(trainData$Unsheltered.Homeless, resids,\n",
    "     xlab = 'Unsheltered Homeless',\n",
    "     ylab = 'Standardized Reisduals',\n",
    "     abline(h = 0, col = 'red')\n",
    "     )\n",
    "plot(trainData$Overall.Homeless, resids,\n",
    "     xlab = 'Overall Homeless',\n",
    "     ylab = 'Standardized Reisduals',\n",
    "     abline(h = 0, col = 'red')\n",
    "     )"
   ]
  },
  {
   "cell_type": "code",
   "execution_count": 16,
   "id": "d1410cf9-8b53-438b-a620-ce7b229b6dd1",
   "metadata": {},
   "outputs": [
    {
     "data": {
      "image/png": "[encoded data removed]",
      "text/plain": [
       "plot without title"
      ]
     },
     "metadata": {
      "image/png": {
       "height": 420,
       "width": 420
      }
     },
     "output_type": "display_data"
    }
   ],
   "source": [
    "# constant variance assumption\n",
    "plot(model5$fitted.values, resids,\n",
    "     xlab = 'Fitted Values',\n",
    "     ylab = 'Standardized Residuals',\n",
    "     abline(h = 0, col = 'red')\n",
    "     )"
   ]
  },
  {
   "cell_type": "code",
   "execution_count": 18,
   "id": "bee362dd-b9cd-4b35-ac02-08d27f601918",
   "metadata": {},
   "outputs": [
    {
     "data": {
      "image/png": "[encoded data removed]",
      "text/plain": [
       "Plot with title \"Histogram of resids\""
      ]
     },
     "metadata": {
      "image/png": {
       "height": 420,
       "width": 420
      }
     },
     "output_type": "display_data"
    },
    {
     "data": {
      "text/html": [
       "<style>\n",
       ".list-inline {list-style: none; margin:0; padding: 0}\n",
       ".list-inline>li {display: inline-block}\n",
       ".list-inline>li:not(:last-child)::after {content: \"\\00b7\"; padding: 0 .5ex}\n",
       "</style>\n",
       "<ol class=list-inline><li>194</li><li>193</li></ol>\n"
      ],
      "text/latex": [
       "\\begin{enumerate*}\n",
       "\\item 194\n",
       "\\item 193\n",
       "\\end{enumerate*}\n"
      ],
      "text/markdown": [
       "1. 194\n",
       "2. 193\n",
       "\n",
       "\n"
      ],
      "text/plain": [
       "[1] 194 193"
      ]
     },
     "metadata": {},
     "output_type": "display_data"
    },
    {
     "data": {
      "image/png": "[encoded data removed]",
      "text/plain": [
       "plot without title"
      ]
     },
     "metadata": {
      "image/png": {
       "height": 420,
       "width": 420
      }
     },
     "output_type": "display_data"
    }
   ],
   "source": [
    "# normality assumption\n",
    "hist(resids, col = 'blue')\n",
    "qqPlot(resids, envelope = 0.95)"
   ]
  },
  {
   "cell_type": "markdown",
   "id": "d5d075c5-86e1-413c-9be9-ab46b58fbe0d",
   "metadata": {},
   "source": [
    "Second Part of my Analysis. Part to go with"
   ]
  },
  {
   "cell_type": "code",
   "execution_count": 45,
   "id": "9f10a4bb-baf3-48af-9e21-6c59ffdaecd6",
   "metadata": {},
   "outputs": [
    {
     "data": {
      "text/plain": [
       "\n",
       "Call:\n",
       "lm(formula = avg_ZHVI ~ RegionName + Overall.Homeless + Sheltered.ES.Homeless + \n",
       "    Sheltered.TH.Homeless + Sheltered.SH.Homeless + Unsheltered.Homeless, \n",
       "    data = train_new)\n",
       "\n",
       "Residuals:\n",
       "    Min      1Q  Median      3Q     Max \n",
       "-116228  -21640   -6756   15196  239854 \n",
       "\n",
       "Coefficients: (1 not defined because of singularities)\n",
       "                        Estimate Std. Error t value Pr(>|t|)    \n",
       "(Intercept)            3.002e+05  1.300e+04  23.092  < 2e-16 ***\n",
       "RegionNameAL          -1.110e+05  1.849e+04  -6.003 3.37e-09 ***\n",
       "RegionNameAR          -1.470e+05  1.822e+04  -8.068 3.94e-15 ***\n",
       "RegionNameAZ           2.961e+04  1.965e+04   1.507  0.13241    \n",
       "RegionNameCA           7.643e+05  6.271e+04  12.188  < 2e-16 ***\n",
       "RegionNameCO           1.325e+05  1.954e+04   6.781 2.88e-11 ***\n",
       "RegionNameCT          -1.659e+04  1.828e+04  -0.908  0.36438    \n",
       "RegionNameDE          -3.550e+04  1.822e+04  -1.948  0.05188 .  \n",
       "RegionNameFL           1.690e+05  3.023e+04   5.589 3.49e-08 ***\n",
       "RegionNameGA          -2.067e+04  1.940e+04  -1.066  0.28698    \n",
       "RegionNameHI           3.103e+05  1.856e+04  16.720  < 2e-16 ***\n",
       "RegionNameIA          -1.172e+05  1.829e+04  -6.407 3.02e-10 ***\n",
       "RegionNameID          -4.443e+04  1.822e+04  -2.439  0.01502 *  \n",
       "RegionNameIL           2.660e+04  2.203e+04   1.207  0.22780    \n",
       "RegionNameIN          -9.950e+04  1.899e+04  -5.239 2.25e-07 ***\n",
       "RegionNameKS          -1.372e+05  1.824e+04  -7.524 1.96e-13 ***\n",
       "RegionNameKY          -1.274e+05  1.836e+04  -6.937 1.05e-11 ***\n",
       "RegionNameLA          -8.474e+04  1.867e+04  -4.538 6.86e-06 ***\n",
       "RegionNameMA           1.921e+05  2.501e+04   7.682 6.49e-14 ***\n",
       "RegionNameMD           6.489e+04  1.993e+04   3.255  0.00120 ** \n",
       "RegionNameME          -4.485e+04  1.831e+04  -2.450  0.01457 *  \n",
       "RegionNameMI          -4.999e+04  2.040e+04  -2.451  0.01454 *  \n",
       "RegionNameMN           2.087e+03  1.902e+04   0.110  0.91265    \n",
       "RegionNameMO          -7.806e+04  1.919e+04  -4.067 5.40e-05 ***\n",
       "RegionNameMS          -1.593e+05  1.823e+04  -8.738  < 2e-16 ***\n",
       "RegionNameMT          -4.533e+04  1.822e+04  -2.487  0.01314 *  \n",
       "RegionNameNC          -2.865e+04  1.928e+04  -1.486  0.13775    \n",
       "RegionNameND          -8.782e+04  1.825e+04  -4.811 1.91e-06 ***\n",
       "RegionNameNE          -1.096e+05  1.825e+04  -6.006 3.31e-09 ***\n",
       "RegionNameNH          -2.641e+04  1.823e+04  -1.449  0.14783    \n",
       "RegionNameNJ           1.162e+05  1.990e+04   5.839 8.62e-09 ***\n",
       "RegionNameNM          -9.208e+04  1.822e+04  -5.054 5.75e-07 ***\n",
       "RegionNameNV          -5.660e+03  1.867e+04  -0.303  0.76183    \n",
       "RegionNameNY           3.606e+05  7.925e+04   4.551 6.48e-06 ***\n",
       "RegionNameOH          -5.680e+04  2.187e+04  -2.597  0.00963 ** \n",
       "RegionNameOK          -1.452e+05  1.851e+04  -7.842 2.05e-14 ***\n",
       "RegionNameOR           9.400e+04  1.925e+04   4.883 1.35e-06 ***\n",
       "RegionNamePA           5.689e+04  3.220e+04   1.766  0.07783 .  \n",
       "RegionNameRI          -2.407e+04  1.823e+04  -1.320  0.18727    \n",
       "RegionNameSC          -8.981e+04  1.831e+04  -4.906 1.20e-06 ***\n",
       "RegionNameSD          -1.072e+05  1.823e+04  -5.877 6.96e-09 ***\n",
       "RegionNameTN          -5.873e+04  1.873e+04  -3.135  0.00180 ** \n",
       "RegionNameTX           7.850e+04  2.659e+04   2.952  0.00328 ** \n",
       "RegionNameUT           1.798e+04  1.835e+04   0.980  0.32751    \n",
       "RegionNameVA           1.477e+04  1.936e+04   0.763  0.44577    \n",
       "RegionNameVT          -4.842e+04  1.822e+04  -2.658  0.00807 ** \n",
       "RegionNameWA           2.297e+05  2.300e+04   9.987  < 2e-16 ***\n",
       "RegionNameWI          -5.279e+04  1.945e+04  -2.715  0.00682 ** \n",
       "RegionNameWV          -1.783e+05  1.824e+04  -9.775  < 2e-16 ***\n",
       "RegionNameWY          -6.086e+04  1.826e+04  -3.334  0.00091 ***\n",
       "Overall.Homeless      -1.840e-02  4.446e-01  -0.041  0.96700    \n",
       "Sheltered.ES.Homeless -1.578e+00  1.145e+00  -1.378  0.16871    \n",
       "Sheltered.TH.Homeless -3.045e+01  1.713e+00 -17.778  < 2e-16 ***\n",
       "Sheltered.SH.Homeless -9.390e+01  9.892e+01  -0.949  0.34288    \n",
       "Unsheltered.Homeless          NA         NA      NA       NA    \n",
       "---\n",
       "Signif. codes:  0 '***' 0.001 '**' 0.01 '*' 0.05 '.' 0.1 ' ' 1\n",
       "\n",
       "Residual standard error: 46430 on 596 degrees of freedom\n",
       "Multiple R-squared:  0.8193,\tAdjusted R-squared:  0.8033 \n",
       "F-statistic:    51 on 53 and 596 DF,  p-value: < 2.2e-16\n"
      ]
     },
     "metadata": {},
     "output_type": "display_data"
    }
   ],
   "source": [
    "# what if the sheltered type is not categorical dummy variable\n",
    "train_new <- df[df$date != 2023, ]\n",
    "test_new <- df[df$date == 2023, ]\n",
    "\n",
    "model_copy <- lm(avg_ZHVI ~ RegionName + Overall.Homeless + Sheltered.ES.Homeless + Sheltered.TH.Homeless + Sheltered.SH.Homeless + Unsheltered.Homeless, data = train_new)\n",
    "summary(model_copy)"
   ]
  },
  {
   "cell_type": "markdown",
   "id": "e52f4064-4ded-4e0c-bdda-2e48d1cd659f",
   "metadata": {},
   "source": [
    "I tried to do another model with Unsheltered instead of Overall Homeless and again the model shows it gives multicollinearity and so does the NA. For the first model, with a threshold of 0.05 we would reject: Region CT, Region DE, Region GA, Region IL, Region MN, Region NC, Region NH, Region NV, Region PA, Region RI, Region UT, Region VA, Overall Homeless, Sheltered ES, Sheltered SH. As we can see aside from TH Homeless, none of the others are significant predictors. For the second model, it's the same thing. If I run the model with everything: RegionName, avg_ZHVI, Sheltered, Overall and Unsheltered, then it automatically decides Sheltered SH has multicollinearity and the rest of the homeless predictors are significant at a 0.1 level but not at a 0.05. "
   ]
  },
  {
   "cell_type": "code",
   "execution_count": 48,
   "id": "5e24175a-8e0b-4753-b651-88bc72e059cc",
   "metadata": {},
   "outputs": [
    {
     "data": {
      "text/plain": [
       "\n",
       "Call:\n",
       "lm(formula = avg_ZHVI ~ RegionName + Overall.Homeless + Sheltered.ES.Homeless + \n",
       "    Sheltered.TH.Homeless + Sheltered.SH.Homeless, data = train_new)\n",
       "\n",
       "Residuals:\n",
       "    Min      1Q  Median      3Q     Max \n",
       "-116228  -21640   -6756   15196  239854 \n",
       "\n",
       "Coefficients:\n",
       "                        Estimate Std. Error t value Pr(>|t|)    \n",
       "(Intercept)            3.002e+05  1.300e+04  23.092  < 2e-16 ***\n",
       "RegionNameAL          -1.110e+05  1.849e+04  -6.003 3.37e-09 ***\n",
       "RegionNameAR          -1.470e+05  1.822e+04  -8.068 3.94e-15 ***\n",
       "RegionNameAZ           2.961e+04  1.965e+04   1.507  0.13241    \n",
       "RegionNameCA           7.643e+05  6.271e+04  12.188  < 2e-16 ***\n",
       "RegionNameCO           1.325e+05  1.954e+04   6.781 2.88e-11 ***\n",
       "RegionNameCT          -1.659e+04  1.828e+04  -0.908  0.36438    \n",
       "RegionNameDE          -3.550e+04  1.822e+04  -1.948  0.05188 .  \n",
       "RegionNameFL           1.690e+05  3.023e+04   5.589 3.49e-08 ***\n",
       "RegionNameGA          -2.067e+04  1.940e+04  -1.066  0.28698    \n",
       "RegionNameHI           3.103e+05  1.856e+04  16.720  < 2e-16 ***\n",
       "RegionNameIA          -1.172e+05  1.829e+04  -6.407 3.02e-10 ***\n",
       "RegionNameID          -4.443e+04  1.822e+04  -2.439  0.01502 *  \n",
       "RegionNameIL           2.660e+04  2.203e+04   1.207  0.22780    \n",
       "RegionNameIN          -9.950e+04  1.899e+04  -5.239 2.25e-07 ***\n",
       "RegionNameKS          -1.372e+05  1.824e+04  -7.524 1.96e-13 ***\n",
       "RegionNameKY          -1.274e+05  1.836e+04  -6.937 1.05e-11 ***\n",
       "RegionNameLA          -8.474e+04  1.867e+04  -4.538 6.86e-06 ***\n",
       "RegionNameMA           1.921e+05  2.501e+04   7.682 6.49e-14 ***\n",
       "RegionNameMD           6.489e+04  1.993e+04   3.255  0.00120 ** \n",
       "RegionNameME          -4.485e+04  1.831e+04  -2.450  0.01457 *  \n",
       "RegionNameMI          -4.999e+04  2.040e+04  -2.451  0.01454 *  \n",
       "RegionNameMN           2.087e+03  1.902e+04   0.110  0.91265    \n",
       "RegionNameMO          -7.806e+04  1.919e+04  -4.067 5.40e-05 ***\n",
       "RegionNameMS          -1.593e+05  1.823e+04  -8.738  < 2e-16 ***\n",
       "RegionNameMT          -4.533e+04  1.822e+04  -2.487  0.01314 *  \n",
       "RegionNameNC          -2.865e+04  1.928e+04  -1.486  0.13775    \n",
       "RegionNameND          -8.782e+04  1.825e+04  -4.811 1.91e-06 ***\n",
       "RegionNameNE          -1.096e+05  1.825e+04  -6.006 3.31e-09 ***\n",
       "RegionNameNH          -2.641e+04  1.823e+04  -1.449  0.14783    \n",
       "RegionNameNJ           1.162e+05  1.990e+04   5.839 8.62e-09 ***\n",
       "RegionNameNM          -9.208e+04  1.822e+04  -5.054 5.75e-07 ***\n",
       "RegionNameNV          -5.660e+03  1.867e+04  -0.303  0.76183    \n",
       "RegionNameNY           3.606e+05  7.925e+04   4.551 6.48e-06 ***\n",
       "RegionNameOH          -5.680e+04  2.187e+04  -2.597  0.00963 ** \n",
       "RegionNameOK          -1.452e+05  1.851e+04  -7.842 2.05e-14 ***\n",
       "RegionNameOR           9.400e+04  1.925e+04   4.883 1.35e-06 ***\n",
       "RegionNamePA           5.689e+04  3.220e+04   1.766  0.07783 .  \n",
       "RegionNameRI          -2.407e+04  1.823e+04  -1.320  0.18727    \n",
       "RegionNameSC          -8.981e+04  1.831e+04  -4.906 1.20e-06 ***\n",
       "RegionNameSD          -1.072e+05  1.823e+04  -5.877 6.96e-09 ***\n",
       "RegionNameTN          -5.873e+04  1.873e+04  -3.135  0.00180 ** \n",
       "RegionNameTX           7.850e+04  2.659e+04   2.952  0.00328 ** \n",
       "RegionNameUT           1.798e+04  1.835e+04   0.980  0.32751    \n",
       "RegionNameVA           1.477e+04  1.936e+04   0.763  0.44577    \n",
       "RegionNameVT          -4.842e+04  1.822e+04  -2.658  0.00807 ** \n",
       "RegionNameWA           2.297e+05  2.300e+04   9.987  < 2e-16 ***\n",
       "RegionNameWI          -5.279e+04  1.945e+04  -2.715  0.00682 ** \n",
       "RegionNameWV          -1.783e+05  1.824e+04  -9.775  < 2e-16 ***\n",
       "RegionNameWY          -6.086e+04  1.826e+04  -3.334  0.00091 ***\n",
       "Overall.Homeless      -1.840e-02  4.446e-01  -0.041  0.96700    \n",
       "Sheltered.ES.Homeless -1.578e+00  1.145e+00  -1.378  0.16871    \n",
       "Sheltered.TH.Homeless -3.045e+01  1.713e+00 -17.778  < 2e-16 ***\n",
       "Sheltered.SH.Homeless -9.390e+01  9.892e+01  -0.949  0.34288    \n",
       "---\n",
       "Signif. codes:  0 '***' 0.001 '**' 0.01 '*' 0.05 '.' 0.1 ' ' 1\n",
       "\n",
       "Residual standard error: 46430 on 596 degrees of freedom\n",
       "Multiple R-squared:  0.8193,\tAdjusted R-squared:  0.8033 \n",
       "F-statistic:    51 on 53 and 596 DF,  p-value: < 2.2e-16\n"
      ]
     },
     "metadata": {},
     "output_type": "display_data"
    }
   ],
   "source": [
    "#take out Unsheltered.Homeless\n",
    "model2_copy <- lm(avg_ZHVI ~ RegionName + Overall.Homeless + Sheltered.ES.Homeless + Sheltered.TH.Homeless + Sheltered.SH.Homeless, data = train_new)\n",
    "summary(model2_copy)"
   ]
  },
  {
   "cell_type": "code",
   "execution_count": 52,
   "id": "515f289c-6fbb-4fe3-a7dc-6ac0e6e02c0d",
   "metadata": {},
   "outputs": [
    {
     "data": {
      "text/plain": [
       "\n",
       "Call:\n",
       "lm(formula = avg_ZHVI ~ RegionName + date + Unsheltered.Homeless + \n",
       "    Overall.Homeless + Sheltered.ES.Homeless + Sheltered.TH.Homeless + \n",
       "    Sheltered.SH.Homeless, data = train_new)\n",
       "\n",
       "Residuals:\n",
       "   Min     1Q Median     3Q    Max \n",
       "-96033 -11472    492  12668 156103 \n",
       "\n",
       "Coefficients: (1 not defined because of singularities)\n",
       "                        Estimate Std. Error t value Pr(>|t|)    \n",
       "(Intercept)            257340.05    9183.25  28.023  < 2e-16 ***\n",
       "RegionNameAL          -133161.19   11445.35 -11.635  < 2e-16 ***\n",
       "RegionNameAR          -147045.92   11239.38 -13.083  < 2e-16 ***\n",
       "RegionNameAZ           -32673.08   12379.68  -2.639 0.008531 ** \n",
       "RegionNameCA           286307.59   43564.78   6.572 1.10e-10 ***\n",
       "RegionNameCO            66475.08   12346.86   5.384 1.06e-07 ***\n",
       "RegionNameCT           -26880.18   11281.69  -2.383 0.017508 *  \n",
       "RegionNameDE           -31746.80   11243.92  -2.823 0.004913 ** \n",
       "RegionNameFL           -32608.77   20376.58  -1.600 0.110071    \n",
       "RegionNameGA           -83655.80   12246.84  -6.831 2.13e-11 ***\n",
       "RegionNameHI           275997.14   11530.81  23.936  < 2e-16 ***\n",
       "RegionNameIA          -134837.34   11304.46 -11.928  < 2e-16 ***\n",
       "RegionNameID           -44168.40   11236.95  -3.931 9.49e-05 ***\n",
       "RegionNameIL           -79938.97   14243.48  -5.612 3.09e-08 ***\n",
       "RegionNameIN          -138010.93   11818.96 -11.677  < 2e-16 ***\n",
       "RegionNameKS          -144229.70   11253.05 -12.817  < 2e-16 ***\n",
       "RegionNameKY          -149180.59   11360.53 -13.131  < 2e-16 ***\n",
       "RegionNameLA          -111516.08   11572.17  -9.637  < 2e-16 ***\n",
       "RegionNameMA            97029.07   15897.43   6.103 1.89e-09 ***\n",
       "RegionNameMD            13495.62   12479.93   1.081 0.279972    \n",
       "RegionNameME           -62287.88   11313.98  -5.505 5.52e-08 ***\n",
       "RegionNameMI          -125795.45   12942.42  -9.720  < 2e-16 ***\n",
       "RegionNameMN           -49330.58   11914.81  -4.140 3.98e-05 ***\n",
       "RegionNameMO          -124749.12   11988.38 -10.406  < 2e-16 ***\n",
       "RegionNameMS          -155762.82   11248.68 -13.847  < 2e-16 ***\n",
       "RegionNameMT           -40717.66   11243.73  -3.621 0.000319 ***\n",
       "RegionNameNC           -80373.83   12078.47  -6.654 6.56e-11 ***\n",
       "RegionNameND           -80125.68   11265.90  -7.112 3.35e-12 ***\n",
       "RegionNameNE          -121544.67   11269.97 -10.785  < 2e-16 ***\n",
       "RegionNameNH           -26156.69   11244.96  -2.326 0.020356 *  \n",
       "RegionNameNJ            57104.95   12504.93   4.567 6.05e-06 ***\n",
       "RegionNameNM           -95832.17   11239.33  -8.527  < 2e-16 ***\n",
       "RegionNameNV           -37807.60   11590.72  -3.262 0.001171 ** \n",
       "RegionNameNY            12452.96   50912.96   0.245 0.806857    \n",
       "RegionNameOH          -137896.97   13886.31  -9.930  < 2e-16 ***\n",
       "RegionNameOK          -158094.44   11435.00 -13.825  < 2e-16 ***\n",
       "RegionNameOR            37653.40   12105.75   3.110 0.001960 ** \n",
       "RegionNamePA           -95958.88   20879.42  -4.596 5.28e-06 ***\n",
       "RegionNameRI           -20530.13   11250.28  -1.825 0.068534 .  \n",
       "RegionNameSC          -105933.47   11311.31  -9.365  < 2e-16 ***\n",
       "RegionNameSD           -99647.66   11252.91  -8.855  < 2e-16 ***\n",
       "RegionNameTN           -97429.19   11662.21  -8.354 4.81e-16 ***\n",
       "RegionNameTX           -71312.77   17494.90  -4.076 5.21e-05 ***\n",
       "RegionNameUT             7293.28   11328.69   0.644 0.519965    \n",
       "RegionNameVA           -24934.91   12054.61  -2.068 0.039033 *  \n",
       "RegionNameVT           -43652.12   11240.66  -3.883 0.000115 ***\n",
       "RegionNameWA            96152.77   15176.77   6.336 4.73e-10 ***\n",
       "RegionNameWI           -96125.03   12127.48  -7.926 1.15e-14 ***\n",
       "RegionNameWV          -175673.70   11255.12 -15.608  < 2e-16 ***\n",
       "RegionNameWY           -51868.60   11267.61  -4.603 5.10e-06 ***\n",
       "date2011               -11420.23    5770.21  -1.979 0.048266 *  \n",
       "date2012               -14031.03    5784.78  -2.426 0.015589 *  \n",
       "date2013                -6379.05    5805.16  -1.099 0.272282    \n",
       "date2014                 1316.22    5832.83   0.226 0.821547    \n",
       "date2015                 8038.14    5862.77   1.371 0.170887    \n",
       "date2016                17026.84    5916.71   2.878 0.004152 ** \n",
       "date2017                24492.61    6038.83   4.056 5.67e-05 ***\n",
       "date2018                32828.45    6171.66   5.319 1.49e-07 ***\n",
       "date2019                42232.75    6212.12   6.798 2.62e-11 ***\n",
       "date2020                56785.22    6236.14   9.106  < 2e-16 ***\n",
       "date2021                95726.44    6434.92  14.876  < 2e-16 ***\n",
       "date2022               134562.68    6321.67  21.286  < 2e-16 ***\n",
       "Unsheltered.Homeless     -110.15      62.71  -1.756 0.079547 .  \n",
       "Overall.Homeless          110.40      62.67   1.762 0.078666 .  \n",
       "Sheltered.ES.Homeless    -109.37      62.66  -1.745 0.081447 .  \n",
       "Sheltered.TH.Homeless    -120.72      62.49  -1.932 0.053869 .  \n",
       "Sheltered.SH.Homeless         NA         NA      NA       NA    \n",
       "---\n",
       "Signif. codes:  0 '***' 0.001 '**' 0.01 '*' 0.05 '.' 0.1 ' ' 1\n",
       "\n",
       "Residual standard error: 28640 on 584 degrees of freedom\n",
       "Multiple R-squared:  0.9326,\tAdjusted R-squared:  0.9251 \n",
       "F-statistic: 124.4 on 65 and 584 DF,  p-value: < 2.2e-16\n"
      ]
     },
     "metadata": {},
     "output_type": "display_data"
    }
   ],
   "source": [
    "model3_copy <- lm(avg_ZHVI ~ RegionName + date + Unsheltered.Homeless + Overall.Homeless + Sheltered.ES.Homeless + Sheltered.TH.Homeless + Sheltered.SH.Homeless, data = train_new)\n",
    "summary(model3_copy)"
   ]
  },
  {
   "cell_type": "code",
   "execution_count": 98,
   "id": "ff4c12c7-a8ab-42da-be2a-edbe7cf65a9f",
   "metadata": {},
   "outputs": [
    {
     "data": {
      "text/plain": [
       "\n",
       "Call:\n",
       "lm(formula = avg_ZHVI ~ RegionName + date + Unsheltered.Homeless + \n",
       "    Overall.Homeless + Sheltered.ES.Homeless + Sheltered.TH.Homeless, \n",
       "    data = train_new)\n",
       "\n",
       "Residuals:\n",
       "   Min     1Q Median     3Q    Max \n",
       "-96033 -11472    492  12668 156103 \n",
       "\n",
       "Coefficients:\n",
       "                        Estimate Std. Error t value Pr(>|t|)    \n",
       "(Intercept)            257340.05    9183.25  28.023  < 2e-16 ***\n",
       "RegionNameAL          -133161.19   11445.35 -11.635  < 2e-16 ***\n",
       "RegionNameAR          -147045.92   11239.38 -13.083  < 2e-16 ***\n",
       "RegionNameAZ           -32673.08   12379.68  -2.639 0.008531 ** \n",
       "RegionNameCA           286307.59   43564.78   6.572 1.10e-10 ***\n",
       "RegionNameCO            66475.08   12346.86   5.384 1.06e-07 ***\n",
       "RegionNameCT           -26880.18   11281.69  -2.383 0.017508 *  \n",
       "RegionNameDE           -31746.80   11243.92  -2.823 0.004913 ** \n",
       "RegionNameFL           -32608.77   20376.58  -1.600 0.110071    \n",
       "RegionNameGA           -83655.80   12246.84  -6.831 2.13e-11 ***\n",
       "RegionNameHI           275997.14   11530.81  23.936  < 2e-16 ***\n",
       "RegionNameIA          -134837.34   11304.46 -11.928  < 2e-16 ***\n",
       "RegionNameID           -44168.40   11236.95  -3.931 9.49e-05 ***\n",
       "RegionNameIL           -79938.97   14243.48  -5.612 3.09e-08 ***\n",
       "RegionNameIN          -138010.93   11818.96 -11.677  < 2e-16 ***\n",
       "RegionNameKS          -144229.70   11253.05 -12.817  < 2e-16 ***\n",
       "RegionNameKY          -149180.59   11360.53 -13.131  < 2e-16 ***\n",
       "RegionNameLA          -111516.08   11572.17  -9.637  < 2e-16 ***\n",
       "RegionNameMA            97029.07   15897.43   6.103 1.89e-09 ***\n",
       "RegionNameMD            13495.62   12479.93   1.081 0.279972    \n",
       "RegionNameME           -62287.88   11313.98  -5.505 5.52e-08 ***\n",
       "RegionNameMI          -125795.45   12942.42  -9.720  < 2e-16 ***\n",
       "RegionNameMN           -49330.58   11914.81  -4.140 3.98e-05 ***\n",
       "RegionNameMO          -124749.12   11988.38 -10.406  < 2e-16 ***\n",
       "RegionNameMS          -155762.82   11248.68 -13.847  < 2e-16 ***\n",
       "RegionNameMT           -40717.66   11243.73  -3.621 0.000319 ***\n",
       "RegionNameNC           -80373.83   12078.47  -6.654 6.56e-11 ***\n",
       "RegionNameND           -80125.68   11265.90  -7.112 3.35e-12 ***\n",
       "RegionNameNE          -121544.67   11269.97 -10.785  < 2e-16 ***\n",
       "RegionNameNH           -26156.69   11244.96  -2.326 0.020356 *  \n",
       "RegionNameNJ            57104.95   12504.93   4.567 6.05e-06 ***\n",
       "RegionNameNM           -95832.17   11239.33  -8.527  < 2e-16 ***\n",
       "RegionNameNV           -37807.60   11590.72  -3.262 0.001171 ** \n",
       "RegionNameNY            12452.96   50912.96   0.245 0.806857    \n",
       "RegionNameOH          -137896.97   13886.31  -9.930  < 2e-16 ***\n",
       "RegionNameOK          -158094.44   11435.00 -13.825  < 2e-16 ***\n",
       "RegionNameOR            37653.40   12105.75   3.110 0.001960 ** \n",
       "RegionNamePA           -95958.88   20879.42  -4.596 5.28e-06 ***\n",
       "RegionNameRI           -20530.13   11250.28  -1.825 0.068534 .  \n",
       "RegionNameSC          -105933.47   11311.31  -9.365  < 2e-16 ***\n",
       "RegionNameSD           -99647.66   11252.91  -8.855  < 2e-16 ***\n",
       "RegionNameTN           -97429.19   11662.21  -8.354 4.81e-16 ***\n",
       "RegionNameTX           -71312.77   17494.90  -4.076 5.21e-05 ***\n",
       "RegionNameUT             7293.28   11328.69   0.644 0.519965    \n",
       "RegionNameVA           -24934.91   12054.61  -2.068 0.039033 *  \n",
       "RegionNameVT           -43652.12   11240.66  -3.883 0.000115 ***\n",
       "RegionNameWA            96152.77   15176.77   6.336 4.73e-10 ***\n",
       "RegionNameWI           -96125.03   12127.48  -7.926 1.15e-14 ***\n",
       "RegionNameWV          -175673.70   11255.12 -15.608  < 2e-16 ***\n",
       "RegionNameWY           -51868.60   11267.61  -4.603 5.10e-06 ***\n",
       "date2011               -11420.23    5770.21  -1.979 0.048266 *  \n",
       "date2012               -14031.03    5784.78  -2.426 0.015589 *  \n",
       "date2013                -6379.05    5805.16  -1.099 0.272282    \n",
       "date2014                 1316.22    5832.83   0.226 0.821547    \n",
       "date2015                 8038.14    5862.77   1.371 0.170887    \n",
       "date2016                17026.84    5916.71   2.878 0.004152 ** \n",
       "date2017                24492.61    6038.83   4.056 5.67e-05 ***\n",
       "date2018                32828.45    6171.66   5.319 1.49e-07 ***\n",
       "date2019                42232.75    6212.12   6.798 2.62e-11 ***\n",
       "date2020                56785.22    6236.14   9.106  < 2e-16 ***\n",
       "date2021                95726.44    6434.92  14.876  < 2e-16 ***\n",
       "date2022               134562.68    6321.67  21.286  < 2e-16 ***\n",
       "Unsheltered.Homeless     -110.15      62.71  -1.756 0.079547 .  \n",
       "Overall.Homeless          110.40      62.67   1.762 0.078666 .  \n",
       "Sheltered.ES.Homeless    -109.37      62.66  -1.745 0.081447 .  \n",
       "Sheltered.TH.Homeless    -120.72      62.49  -1.932 0.053869 .  \n",
       "---\n",
       "Signif. codes:  0 '***' 0.001 '**' 0.01 '*' 0.05 '.' 0.1 ' ' 1\n",
       "\n",
       "Residual standard error: 28640 on 584 degrees of freedom\n",
       "Multiple R-squared:  0.9326,\tAdjusted R-squared:  0.9251 \n",
       "F-statistic: 124.4 on 65 and 584 DF,  p-value: < 2.2e-16\n"
      ]
     },
     "metadata": {},
     "output_type": "display_data"
    }
   ],
   "source": [
    "#same as model3_copy but without Sheltered SH\n",
    "model4_copy <- lm(avg_ZHVI ~ RegionName + date + Unsheltered.Homeless + Overall.Homeless + Sheltered.ES.Homeless + Sheltered.TH.Homeless, data = train_new)\n",
    "summary(model4_copy)"
   ]
  },
  {
   "cell_type": "code",
   "execution_count": 100,
   "id": "58006e65-68f8-4af2-9b50-f2f9708ad7ae",
   "metadata": {},
   "outputs": [
    {
     "data": {
      "image/png": "[encoded data removed]",
      "text/plain": [
       "plot without title"
      ]
     },
     "metadata": {
      "image/png": {
       "height": 420,
       "width": 420
      }
     },
     "output_type": "display_data"
    }
   ],
   "source": [
    "# linearity assumption\n",
    "resids_copy <- rstandard(model4_copy)\n",
    "par(mfrow = c(2, 2))\n",
    "plot(train_new$Sheltered.ES.Homeless, resids_copy,\n",
    "     xlab = 'Sheltered ES Homeless',\n",
    "     ylab = 'Standardized Reisduals',\n",
    "     abline(h = 0, col = 'red')\n",
    "     )\n",
    "plot(train_new$Sheltered.TH.Homeless, resids_copy,\n",
    "     xlab = 'Sheltered TH Homeless',\n",
    "     ylab = 'Standardized Reisduals',\n",
    "     abline(h = 0, col = 'red')\n",
    "     )\n",
    "plot(train_new$Sheltered.SH.Homeless, resids_copy,\n",
    "     xlab = 'Sheltered SH Homeless',\n",
    "     ylab = 'Standardized Reisduals',\n",
    "     abline(h = 0, col = 'red')\n",
    "     )\n",
    "plot(train_new$Unsheltered.Homeless, resids_copy,\n",
    "     xlab = 'Unsheltered Homeless',\n",
    "     ylab = 'Standardized Reisduals',\n",
    "     abline(h = 0, col = 'red')\n",
    "     )"
   ]
  },
  {
   "cell_type": "markdown",
   "id": "be3cf722-d9e5-4870-b127-bfb61cdbeef8",
   "metadata": {},
   "source": [
    "Linearity Assumption sticks around the y = 0 line for all predictors pretty evenly, yet for all of them they are concentrated to the left side of the plots. Therefore, the linearity assumption does not hold. "
   ]
  },
  {
   "cell_type": "code",
   "execution_count": 102,
   "id": "b3addd92-3374-4d46-804e-bfb9a75db5ed",
   "metadata": {},
   "outputs": [
    {
     "data": {
      "image/png": "[encoded data removed]",
      "text/plain": [
       "plot without title"
      ]
     },
     "metadata": {
      "image/png": {
       "height": 420,
       "width": 420
      }
     },
     "output_type": "display_data"
    }
   ],
   "source": [
    "# constant variance assumption\n",
    "plot(model4_copy$fitted.values, resids_copy,\n",
    "     xlab = 'Fitted Values',\n",
    "     ylab = 'Standardized Residuals',\n",
    "     abline(h = 0, col = 'red')\n",
    "     )"
   ]
  },
  {
   "cell_type": "markdown",
   "id": "71b587ad-277e-4c07-b66d-c8dcbad8322f",
   "metadata": {},
   "source": [
    "Constant Variance assumption hold when the spread of residuals is consistent as fitted values change. Therefore, by looking at the graph above constant variance assumption des not hold. This is because as fitted values increase there are more standardized residuals above the y = 0 line. "
   ]
  },
  {
   "cell_type": "code",
   "execution_count": 104,
   "id": "434e7a5a-6ebd-4000-abda-d2136ccaf4eb",
   "metadata": {},
   "outputs": [
    {
     "data": {
      "image/png": "[encoded data removed]",
      "text/plain": [
       "Plot with title \"Histogram of resids_copy\""
      ]
     },
     "metadata": {
      "image/png": {
       "height": 420,
       "width": 420
      }
     },
     "output_type": "display_data"
    },
    {
     "data": {
      "text/html": [
       "<style>\n",
       ".list-inline {list-style: none; margin:0; padding: 0}\n",
       ".list-inline>li {display: inline-block}\n",
       ".list-inline>li:not(:last-child)::after {content: \"\\00b7\"; padding: 0 .5ex}\n",
       "</style>\n",
       "<ol class=list-inline><li>143</li><li>572</li></ol>\n"
      ],
      "text/latex": [
       "\\begin{enumerate*}\n",
       "\\item 143\n",
       "\\item 572\n",
       "\\end{enumerate*}\n"
      ],
      "text/markdown": [
       "1. 143\n",
       "2. 572\n",
       "\n",
       "\n"
      ],
      "text/plain": [
       "[1] 143 572"
      ]
     },
     "metadata": {},
     "output_type": "display_data"
    },
    {
     "data": {
      "image/png": "[encoded data removed]",
      "text/plain": [
       "plot without title"
      ]
     },
     "metadata": {
      "image/png": {
       "height": 420,
       "width": 420
      }
     },
     "output_type": "display_data"
    }
   ],
   "source": [
    "# normality assumption\n",
    "hist(resids_copy, col = 'blue')\n",
    "qqPlot(resids_copy, envelope = 0.95)"
   ]
  },
  {
   "cell_type": "markdown",
   "id": "819d502f-39a3-4427-9333-c12a534786c6",
   "metadata": {},
   "source": [
    "The histogram shows the standardized residuals are right tailed. The QQ plot shows how there it has two tails and therefore not fall within the 95% confidence interval and thus not follow a normal distribution. From all four plots, none of the assumptions hold. Therefore, homeless data does not work for this project. "
   ]
  },
  {
   "cell_type": "code",
   "execution_count": 124,
   "id": "02a7c52b-cb48-4585-8a3d-288c48025dd6",
   "metadata": {},
   "outputs": [
    {
     "name": "stdout",
     "output_type": "stream",
     "text": [
      "Optimal lambda:  -0.5 \n"
     ]
    },
    {
     "data": {
      "image/png": "[encoded data removed]",
      "text/plain": [
       "Plot with title \"Profile Log-likelihood\""
      ]
     },
     "metadata": {
      "image/png": {
       "height": 420,
       "width": 420
      }
     },
     "output_type": "display_data"
    }
   ],
   "source": [
    "bc = boxCox(model4_copy)\n",
    "\n",
    "opt.lambda = bc$x[which.max(bc$y)]\n",
    "cat('Optimal lambda: ', round(opt.lambda/0.5) * 0.5, '\\n')"
   ]
  },
  {
   "cell_type": "code",
   "execution_count": 126,
   "id": "8e195a44-d640-4db0-8646-4b6fe62da121",
   "metadata": {},
   "outputs": [
    {
     "data": {
      "text/plain": [
       "\n",
       "Call:\n",
       "lm(formula = (1/sqrt(avg_ZHVI)) ~ RegionName + date + Unsheltered.Homeless + \n",
       "    Overall.Homeless + Sheltered.ES.Homeless + Sheltered.TH.Homeless, \n",
       "    data = train_new)\n",
       "\n",
       "Residuals:\n",
       "       Min         1Q     Median         3Q        Max \n",
       "-2.904e-04 -4.396e-05 -1.400e-06  3.744e-05  3.678e-04 \n",
       "\n",
       "Coefficients:\n",
       "                        Estimate Std. Error t value Pr(>|t|)    \n",
       "(Intercept)            2.053e-03  2.613e-05  78.552  < 2e-16 ***\n",
       "RegionNameAL           7.432e-04  3.257e-05  22.822  < 2e-16 ***\n",
       "RegionNameAR           8.506e-04  3.198e-05  26.596  < 2e-16 ***\n",
       "RegionNameAZ           1.868e-04  3.523e-05   5.302 1.63e-07 ***\n",
       "RegionNameCA          -1.062e-03  1.240e-04  -8.567  < 2e-16 ***\n",
       "RegionNameCO          -1.719e-04  3.513e-05  -4.894 1.28e-06 ***\n",
       "RegionNameCT           8.809e-05  3.210e-05   2.744 0.006255 ** \n",
       "RegionNameDE           1.248e-04  3.199e-05   3.902 0.000106 ***\n",
       "RegionNameFL           1.412e-04  5.798e-05   2.436 0.015154 *  \n",
       "RegionNameGA           4.765e-04  3.485e-05  13.673  < 2e-16 ***\n",
       "RegionNameHI          -5.509e-04  3.281e-05 -16.790  < 2e-16 ***\n",
       "RegionNameIA           7.828e-04  3.217e-05  24.335  < 2e-16 ***\n",
       "RegionNameID           2.737e-04  3.197e-05   8.560  < 2e-16 ***\n",
       "RegionNameIL           4.042e-04  4.053e-05   9.973  < 2e-16 ***\n",
       "RegionNameIN           8.031e-04  3.363e-05  23.881  < 2e-16 ***\n",
       "RegionNameKS           8.410e-04  3.202e-05  26.266  < 2e-16 ***\n",
       "RegionNameKY           9.334e-04  3.233e-05  28.875  < 2e-16 ***\n",
       "RegionNameLA           5.398e-04  3.293e-05  16.392  < 2e-16 ***\n",
       "RegionNameMA          -3.872e-04  4.523e-05  -8.560  < 2e-16 ***\n",
       "RegionNameMD          -7.365e-05  3.551e-05  -2.074 0.038520 *  \n",
       "RegionNameME           2.967e-04  3.219e-05   9.215  < 2e-16 ***\n",
       "RegionNameMI           7.778e-04  3.683e-05  21.121  < 2e-16 ***\n",
       "RegionNameMN           2.400e-04  3.390e-05   7.079 4.18e-12 ***\n",
       "RegionNameMO           6.878e-04  3.411e-05  20.164  < 2e-16 ***\n",
       "RegionNameMS           9.435e-04  3.201e-05  29.479  < 2e-16 ***\n",
       "RegionNameMT           1.984e-04  3.199e-05   6.203 1.05e-09 ***\n",
       "RegionNameNC           3.918e-04  3.437e-05  11.399  < 2e-16 ***\n",
       "RegionNameND           3.418e-04  3.206e-05  10.661  < 2e-16 ***\n",
       "RegionNameNE           6.585e-04  3.207e-05  20.535  < 2e-16 ***\n",
       "RegionNameNH           1.222e-04  3.200e-05   3.818 0.000149 ***\n",
       "RegionNameNJ          -2.119e-04  3.558e-05  -5.955 4.48e-09 ***\n",
       "RegionNameNM           4.479e-04  3.198e-05  14.004  < 2e-16 ***\n",
       "RegionNameNV           2.252e-04  3.298e-05   6.829 2.15e-11 ***\n",
       "RegionNameNY          -7.458e-04  1.449e-04  -5.148 3.60e-07 ***\n",
       "RegionNameOH           7.745e-04  3.951e-05  19.601  < 2e-16 ***\n",
       "RegionNameOK           9.290e-04  3.254e-05  28.551  < 2e-16 ***\n",
       "RegionNameOR          -9.213e-05  3.445e-05  -2.675 0.007692 ** \n",
       "RegionNamePA           3.839e-04  5.941e-05   6.461 2.19e-10 ***\n",
       "RegionNameRI           9.260e-05  3.201e-05   2.893 0.003964 ** \n",
       "RegionNameSC           5.363e-04  3.219e-05  16.663  < 2e-16 ***\n",
       "RegionNameSD           4.791e-04  3.202e-05  14.962  < 2e-16 ***\n",
       "RegionNameTN           5.085e-04  3.318e-05  15.325  < 2e-16 ***\n",
       "RegionNameTX           2.943e-04  4.978e-05   5.912 5.77e-09 ***\n",
       "RegionNameUT           2.692e-05  3.223e-05   0.835 0.403972    \n",
       "RegionNameVA           5.815e-05  3.430e-05   1.695 0.090527 .  \n",
       "RegionNameVT           1.701e-04  3.198e-05   5.319 1.49e-07 ***\n",
       "RegionNameWA          -2.791e-04  4.318e-05  -6.464 2.15e-10 ***\n",
       "RegionNameWI           4.501e-04  3.451e-05  13.044  < 2e-16 ***\n",
       "RegionNameWV           1.150e-03  3.203e-05  35.901  < 2e-16 ***\n",
       "RegionNameWY           2.109e-04  3.206e-05   6.579 1.06e-10 ***\n",
       "date2011               6.281e-05  1.642e-05   3.826 0.000144 ***\n",
       "date2012               6.935e-05  1.646e-05   4.213 2.92e-05 ***\n",
       "date2013               9.506e-06  1.652e-05   0.575 0.565186    \n",
       "date2014              -4.803e-05  1.660e-05  -2.894 0.003947 ** \n",
       "date2015              -9.846e-05  1.668e-05  -5.902 6.09e-09 ***\n",
       "date2016              -1.523e-04  1.684e-05  -9.048  < 2e-16 ***\n",
       "date2017              -2.001e-04  1.718e-05 -11.645  < 2e-16 ***\n",
       "date2018              -2.548e-04  1.756e-05 -14.511  < 2e-16 ***\n",
       "date2019              -3.040e-04  1.768e-05 -17.199  < 2e-16 ***\n",
       "date2020              -3.686e-04  1.774e-05 -20.772  < 2e-16 ***\n",
       "date2021              -4.905e-04  1.831e-05 -26.788  < 2e-16 ***\n",
       "date2022              -6.122e-04  1.799e-05 -34.034  < 2e-16 ***\n",
       "Unsheltered.Homeless   4.005e-09  1.784e-07   0.022 0.982103    \n",
       "Overall.Homeless      -2.469e-09  1.783e-07  -0.014 0.988961    \n",
       "Sheltered.ES.Homeless  1.028e-08  1.783e-07   0.058 0.954032    \n",
       "Sheltered.TH.Homeless  2.360e-08  1.778e-07   0.133 0.894438    \n",
       "---\n",
       "Signif. codes:  0 '***' 0.001 '**' 0.01 '*' 0.05 '.' 0.1 ' ' 1\n",
       "\n",
       "Residual standard error: 8.15e-05 on 584 degrees of freedom\n",
       "Multiple R-squared:   0.97,\tAdjusted R-squared:  0.9667 \n",
       "F-statistic: 290.7 on 65 and 584 DF,  p-value: < 2.2e-16\n"
      ]
     },
     "metadata": {},
     "output_type": "display_data"
    }
   ],
   "source": [
    "model5_copy <- lm( (1/sqrt(avg_ZHVI)) ~ RegionName + date + Unsheltered.Homeless + Overall.Homeless + Sheltered.ES.Homeless + Sheltered.TH.Homeless, data = train_new)\n",
    "summary(model5_copy)"
   ]
  },
  {
   "cell_type": "markdown",
   "id": "8889ff44-4136-4a48-8718-58657243907c",
   "metadata": {},
   "source": [
    "Optimal Log was found to be -0.5, I did a 1/sqrt(avg_ZHVI) transformation. Consideri"
   ]
  },
  {
   "cell_type": "code",
   "execution_count": 106,
   "id": "b3e02d43-62b6-49e4-9089-2566178f233c",
   "metadata": {},
   "outputs": [
    {
     "name": "stdout",
     "output_type": "stream",
     "text": [
      "VIF threshold:  14.84398 \n"
     ]
    },
    {
     "data": {
      "text/html": [
       "<table class=\"dataframe\">\n",
       "<caption>A matrix: 6 × 3 of type dbl</caption>\n",
       "<thead>\n",
       "\t<tr><th></th><th scope=col>GVIF</th><th scope=col>Df</th><th scope=col>GVIF^(1/(2*Df))</th></tr>\n",
       "</thead>\n",
       "<tbody>\n",
       "\t<tr><th scope=row>RegionName</th><td>3.394629e+03</td><td>49</td><td>   1.086497</td></tr>\n",
       "\t<tr><th scope=row>date</th><td>1.919009e+00</td><td>12</td><td>   1.027531</td></tr>\n",
       "\t<tr><th scope=row>Unsheltered.Homeless</th><td>4.595101e+05</td><td> 1</td><td> 677.871724</td></tr>\n",
       "\t<tr><th scope=row>Overall.Homeless</th><td>1.388634e+06</td><td> 1</td><td>1178.403213</td></tr>\n",
       "\t<tr><th scope=row>Sheltered.ES.Homeless</th><td>3.354075e+05</td><td> 1</td><td> 579.143797</td></tr>\n",
       "\t<tr><th scope=row>Sheltered.TH.Homeless</th><td>3.010716e+04</td><td> 1</td><td> 173.514149</td></tr>\n",
       "</tbody>\n",
       "</table>\n"
      ],
      "text/latex": [
       "A matrix: 6 × 3 of type dbl\n",
       "\\begin{tabular}{r|lll}\n",
       "  & GVIF & Df & GVIF\\textasciicircum{}(1/(2*Df))\\\\\n",
       "\\hline\n",
       "\tRegionName & 3.394629e+03 & 49 &    1.086497\\\\\n",
       "\tdate & 1.919009e+00 & 12 &    1.027531\\\\\n",
       "\tUnsheltered.Homeless & 4.595101e+05 &  1 &  677.871724\\\\\n",
       "\tOverall.Homeless & 1.388634e+06 &  1 & 1178.403213\\\\\n",
       "\tSheltered.ES.Homeless & 3.354075e+05 &  1 &  579.143797\\\\\n",
       "\tSheltered.TH.Homeless & 3.010716e+04 &  1 &  173.514149\\\\\n",
       "\\end{tabular}\n"
      ],
      "text/markdown": [
       "\n",
       "A matrix: 6 × 3 of type dbl\n",
       "\n",
       "| <!--/--> | GVIF | Df | GVIF^(1/(2*Df)) |\n",
       "|---|---|---|---|\n",
       "| RegionName | 3.394629e+03 | 49 |    1.086497 |\n",
       "| date | 1.919009e+00 | 12 |    1.027531 |\n",
       "| Unsheltered.Homeless | 4.595101e+05 |  1 |  677.871724 |\n",
       "| Overall.Homeless | 1.388634e+06 |  1 | 1178.403213 |\n",
       "| Sheltered.ES.Homeless | 3.354075e+05 |  1 |  579.143797 |\n",
       "| Sheltered.TH.Homeless | 3.010716e+04 |  1 |  173.514149 |\n",
       "\n"
      ],
      "text/plain": [
       "                      GVIF         Df GVIF^(1/(2*Df))\n",
       "RegionName            3.394629e+03 49    1.086497    \n",
       "date                  1.919009e+00 12    1.027531    \n",
       "Unsheltered.Homeless  4.595101e+05  1  677.871724    \n",
       "Overall.Homeless      1.388634e+06  1 1178.403213    \n",
       "Sheltered.ES.Homeless 3.354075e+05  1  579.143797    \n",
       "Sheltered.TH.Homeless 3.010716e+04  1  173.514149    "
      ]
     },
     "metadata": {},
     "output_type": "display_data"
    }
   ],
   "source": [
    "# checking for multicollinearity\n",
    "cat('VIF threshold: ', max(10, 1/(1 - summary(model4_copy)$r.squared)), '\\n')\n",
    "vif(model4_copy)"
   ]
  },
  {
   "cell_type": "code",
   "execution_count": 108,
   "id": "42e41fd3-6291-4c3e-a119-cc9b0f85480f",
   "metadata": {},
   "outputs": [
    {
     "name": "stdout",
     "output_type": "stream",
     "text": [
      "VIF threshold:  10 \n"
     ]
    },
    {
     "data": {
      "text/html": [
       "<table class=\"dataframe\">\n",
       "<caption>A matrix: 5 × 3 of type dbl</caption>\n",
       "<thead>\n",
       "\t<tr><th></th><th scope=col>GVIF</th><th scope=col>Df</th><th scope=col>GVIF^(1/(2*Df))</th></tr>\n",
       "</thead>\n",
       "<tbody>\n",
       "\t<tr><th scope=row>RegionName</th><td>2338.336978</td><td>49</td><td>1.082372</td></tr>\n",
       "\t<tr><th scope=row>Overall.Homeless</th><td>  26.596119</td><td> 1</td><td>5.157143</td></tr>\n",
       "\t<tr><th scope=row>Sheltered.ES.Homeless</th><td>  42.610037</td><td> 1</td><td>6.527636</td></tr>\n",
       "\t<tr><th scope=row>Sheltered.TH.Homeless</th><td>   8.605115</td><td> 1</td><td>2.933448</td></tr>\n",
       "\t<tr><th scope=row>Sheltered.SH.Homeless</th><td>   8.198219</td><td> 1</td><td>2.863253</td></tr>\n",
       "</tbody>\n",
       "</table>\n"
      ],
      "text/latex": [
       "A matrix: 5 × 3 of type dbl\n",
       "\\begin{tabular}{r|lll}\n",
       "  & GVIF & Df & GVIF\\textasciicircum{}(1/(2*Df))\\\\\n",
       "\\hline\n",
       "\tRegionName & 2338.336978 & 49 & 1.082372\\\\\n",
       "\tOverall.Homeless &   26.596119 &  1 & 5.157143\\\\\n",
       "\tSheltered.ES.Homeless &   42.610037 &  1 & 6.527636\\\\\n",
       "\tSheltered.TH.Homeless &    8.605115 &  1 & 2.933448\\\\\n",
       "\tSheltered.SH.Homeless &    8.198219 &  1 & 2.863253\\\\\n",
       "\\end{tabular}\n"
      ],
      "text/markdown": [
       "\n",
       "A matrix: 5 × 3 of type dbl\n",
       "\n",
       "| <!--/--> | GVIF | Df | GVIF^(1/(2*Df)) |\n",
       "|---|---|---|---|\n",
       "| RegionName | 2338.336978 | 49 | 1.082372 |\n",
       "| Overall.Homeless |   26.596119 |  1 | 5.157143 |\n",
       "| Sheltered.ES.Homeless |   42.610037 |  1 | 6.527636 |\n",
       "| Sheltered.TH.Homeless |    8.605115 |  1 | 2.933448 |\n",
       "| Sheltered.SH.Homeless |    8.198219 |  1 | 2.863253 |\n",
       "\n"
      ],
      "text/plain": [
       "                      GVIF        Df GVIF^(1/(2*Df))\n",
       "RegionName            2338.336978 49 1.082372       \n",
       "Overall.Homeless        26.596119  1 5.157143       \n",
       "Sheltered.ES.Homeless   42.610037  1 6.527636       \n",
       "Sheltered.TH.Homeless    8.605115  1 2.933448       \n",
       "Sheltered.SH.Homeless    8.198219  1 2.863253       "
      ]
     },
     "metadata": {},
     "output_type": "display_data"
    }
   ],
   "source": [
    "# checking for multicollinearity\n",
    "cat('VIF threshold: ', max(10, 1/(1 - summary(model2_copy)$r.squared)), '\\n')\n",
    "vif(model2_copy)"
   ]
  },
  {
   "cell_type": "markdown",
   "id": "18f4bba5-1cb9-498a-97e5-04e6ad08764b",
   "metadata": {},
   "source": [
    "For linearity, constant variance and normality assumption all models are rather similar. Model 1/2 does not have any multicollinearity, obviously this is once we take out Unsheltered.Homeless. While Model 3/4, has multicollinearity in all Homeless predictors. "
   ]
  },
  {
   "cell_type": "code",
   "execution_count": 111,
   "id": "656bed60-8fbc-4b47-b03e-a323f0dc16bc",
   "metadata": {},
   "outputs": [
    {
     "name": "stdout",
     "output_type": "stream",
     "text": [
      "[1] \"Cook's Distance threshold:  0.00615384615384615\"\n",
      "[1] \"Number of Outliers:  43\"\n"
     ]
    },
    {
     "data": {
      "image/png": "[encoded data removed]",
      "text/plain": [
       "Plot with title \"Cook's Distance\""
      ]
     },
     "metadata": {
      "image/png": {
       "height": 420,
       "width": 420
      }
     },
     "output_type": "display_data"
    }
   ],
   "source": [
    "# checking for outliers\n",
    "model_copy_cook <- cooks.distance(model2_copy)\n",
    "cook_n <- nrow(model2_copy$model)\n",
    "cook_threshold <- 4 / cook_n\n",
    "\n",
    "plot(model_copy_cook, main = \"Cook's Distance\", ylab = \"Cook's Distance\", xlab = \"Observation\")\n",
    "abline(h = cook_threshold, col = 'red', lty = 2)\n",
    "\n",
    "print(paste(\"Cook's Distance threshold: \", cook_threshold))\n",
    "\n",
    "outliers <- which(model_copy_cook > cook_threshold)\n",
    "\n",
    "print(paste('Number of Outliers: ', length(outliers)))"
   ]
  },
  {
   "cell_type": "markdown",
   "id": "bc4212e6-8c1f-484a-987e-5e0257774b23",
   "metadata": {},
   "source": [
    "between model 2 and model 4 there is only one more outlier seen in Model 4."
   ]
  },
  {
   "cell_type": "code",
   "execution_count": 114,
   "id": "b6ea41f1-80ee-4a05-8a55-a37a51696d23",
   "metadata": {},
   "outputs": [
    {
     "name": "stdout",
     "output_type": "stream",
     "text": [
      "\u001b[90m# A tibble: 5 × 9\u001b[39m\n",
      "  RegionName date  avg_ZHVI Overall.Homeless Sheltered.ES.Homeless\n",
      "  \u001b[3m\u001b[90m<chr>\u001b[39m\u001b[23m      \u001b[3m\u001b[90m<chr>\u001b[39m\u001b[23m    \u001b[3m\u001b[90m<dbl>\u001b[39m\u001b[23m            \u001b[3m\u001b[90m<dbl>\u001b[39m\u001b[23m                 \u001b[3m\u001b[90m<dbl>\u001b[39m\u001b[23m\n",
      "\u001b[90m1\u001b[39m CA         2022   \u001b[4m7\u001b[24m\u001b[4m4\u001b[24m\u001b[4m5\u001b[24m788.           \u001b[4m1\u001b[24m\u001b[4m7\u001b[24m\u001b[4m1\u001b[24m521                 \u001b[4m4\u001b[24m\u001b[4m4\u001b[24m553\n",
      "\u001b[90m2\u001b[39m HI         2022   \u001b[4m8\u001b[24m\u001b[4m2\u001b[24m\u001b[4m3\u001b[24m079.             \u001b[4m5\u001b[24m967                  \u001b[4m1\u001b[24m484\n",
      "\u001b[90m3\u001b[39m UT         2022   \u001b[4m5\u001b[24m\u001b[4m2\u001b[24m\u001b[4m3\u001b[24m455.             \u001b[4m3\u001b[24m557                  \u001b[4m2\u001b[24m219\n",
      "\u001b[90m4\u001b[39m ID         2022   \u001b[4m4\u001b[24m\u001b[4m7\u001b[24m\u001b[4m0\u001b[24m276.             \u001b[4m1\u001b[24m998                   811\n",
      "\u001b[90m5\u001b[39m CA         2010   \u001b[4m3\u001b[24m\u001b[4m0\u001b[24m\u001b[4m7\u001b[24m285.           \u001b[4m1\u001b[24m\u001b[4m2\u001b[24m\u001b[4m3\u001b[24m480                 \u001b[4m2\u001b[24m\u001b[4m3\u001b[24m701\n",
      "\u001b[90m# ℹ 4 more variables: Sheltered.TH.Homeless <dbl>,\u001b[39m\n",
      "\u001b[90m#   Sheltered.Total.Homeless <dbl>, Unsheltered.Homeless <dbl>,\u001b[39m\n",
      "\u001b[90m#   Sheltered.SH.Homeless <dbl>\u001b[39m\n"
     ]
    }
   ],
   "source": [
    "# print out the top 5 outliers\n",
    "top_outliers <- order(model_copy_cook[outliers], decreasing = TRUE)[1:5]\n",
    "outliers_rows <- train_new[outliers[top_outliers], ]\n",
    "print(outliers_rows)"
   ]
  },
  {
   "cell_type": "code",
   "execution_count": 118,
   "id": "7d3359ce-e2c7-419d-93bf-2702fb94b59d",
   "metadata": {},
   "outputs": [
    {
     "name": "stdout",
     "output_type": "stream",
     "text": [
      "Adjusted R Squared model 1:  0.8032681 \n",
      "Adjusted R Squared model 2:  0.8032681 \n",
      "Adjusted R Squared model 3:  0.9251346 \n",
      "Adjusted R Squared model 4:  0.9251346 \n"
     ]
    }
   ],
   "source": [
    "# prediction\n",
    "prediction1 <- predict(model_copy, newdata = test_new)\n",
    "comparison1 <- cbind(prediction1, test_new$avg_ZHVI)\n",
    "cat('Adjusted R Squared model 1: ', summary(model_copy)$adj.r.squared, '\\n')\n",
    "\n",
    "prediction2 <- predict(model2_copy, newdata = test_new)\n",
    "comparison2 <- cbind(prediction2, test_new$avg_ZHVI)\n",
    "cat('Adjusted R Squared model 2: ', summary(model2_copy)$adj.r.squared, '\\n')\n",
    "\n",
    "cat('Adjusted R Squared model 3: ', summary(model3_copy)$adj.r.squared, '\\n')\n",
    "cat('Adjusted R Squared model 4: ', summary(model4_copy)$adj.r.squared, '\\n')"
   ]
  }
 ],
 "metadata": {
  "kernelspec": {
   "display_name": "R",
   "language": "R",
   "name": "ir"
  },
  "language_info": {
   "codemirror_mode": "r",
   "file_extension": ".r",
   "mimetype": "text/x-r-source",
   "name": "R",
   "pygments_lexer": "r",
   "version": "4.4.1"
  }
 },
 "nbformat": 4,
 "nbformat_minor": 5
}
